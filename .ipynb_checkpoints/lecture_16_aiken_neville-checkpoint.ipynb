{
 "cells": [
  {
   "cell_type": "markdown",
   "metadata": {},
   "source": [
    "# Lecture 16: Problem Set"
   ]
  },
  {
   "cell_type": "markdown",
   "metadata": {},
   "source": [
    "##### Please note:\n",
    "\n",
    "This problem, while given in Lecture 16, is also part of Lab 3, so don't\n",
    "forget it when you submit the solutions to Lab 3."
   ]
  },
  {
   "cell_type": "code",
   "execution_count": 1,
   "metadata": {},
   "outputs": [
    {
     "data": {
      "text/html": [
       "<link href='http://fonts.googleapis.com/css?family=Alegreya+Sans:100,300,400,500,700,800,900,100italic,300italic,400italic,500italic,700italic,800italic,900italic' rel='stylesheet' type='text/css'> <link href='http://fonts.googleapis.com/css?family=Arvo:400,700,400italic' rel='stylesheet' type='text/css'> <link href=\"https://fonts.googleapis.com/css?family=News+Cycle\" rel=\"stylesheet\"> <link href='http://fonts.googleapis.com/css?family=Nixie+One' rel='stylesheet' type='text/css'> <link href='http://fonts.googleapis.com/css?family=PT+Mono' rel='stylesheet' type='text/css'> <link href='http://fonts.googleapis.com/css?family=Shadows+Into+Light' rel='stylesheet' type='text/css'> <link href=\"https://fonts.googleapis.com/css?family=Source+Code+Pro\" rel=\"stylesheet\"> <style> @font-face {\n",
       "    /*font-family: \"Computer Modern\";*/\n",
       "    /*src: url('http://mirrors.ctan.org/fonts/cm-unicode/fonts/otf/cmunss.otf');*/\n",
       "    font-family: 'News Cycle', sans-serif;\n",
       "}\n",
       "\n",
       "\n",
       "/* main background */\n",
       "\n",
       "\n",
       "/*#notebook_panel { \n",
       "        background: #C9D4E2;\n",
       "    }*/\n",
       "\n",
       "div.cell {\n",
       "    /*max-width:600px;*/\n",
       "    /*margin-left:16% !important;*/\n",
       "    /*margin-right:auto;*/\n",
       "}\n",
       "\n",
       "div.text_cell {\n",
       "    max-width: 120ex;\n",
       "    /* instead of 100%, */\n",
       "}\n",
       "\n",
       "div.text_cell_render {\n",
       "    font-family: 'Alegreya Sans', Computer Modern, \"Helvetica Neue\", Arial, Helvetica, Geneva,   sans-serif;\n",
       "    line-height: 135%;\n",
       "    /*font-size:    45pt;*/\n",
       "    font-size: 130%;\n",
       "    /*width:600px;*/\n",
       "    /*margin-left:auto;*/\n",
       "    /*margin-right:auto;*/\n",
       "}\n",
       "\n",
       ".CodeMirror {\n",
       "    /*font-family: 'Source Code Pro', monospace;*/\n",
       "    /*font-style: italic;*/\n",
       "    /*font-weight: bold;*/\n",
       "    /*font-size: 120%;*/\n",
       "}\n",
       "\n",
       "\n",
       "/*.prompt{\n",
       "        display: None;\n",
       "    }*/\n",
       "\n",
       ".text_cell_render h1 {\n",
       "    font-family: 'Nixie One', serifV;\n",
       "    font-style: regular;\n",
       "    font-weight: 400;\n",
       "    font-size: 45pt;\n",
       "    line-height: 100%;\n",
       "        color: #497BB9;    \n",
       "    /*color: #5889C5;*/\n",
       "    /*color: rgb(0, 51, 102);*/\n",
       "    /*font-weight: 200;*/\n",
       "    /*font-size: 50pt;*/\n",
       "    margin-bottom: 0.5em;\n",
       "    margin-top: 0.5em;\n",
       "    display: block;\n",
       "}\n",
       "\n",
       ".text_cell_render h2 {\n",
       "    font-family: 'Nixie One', serif;\n",
       "    font-weight: 400;\n",
       "    font-size: 30pt;\n",
       "    line-height: 100%;\n",
       "    /*color: rgb(0,51,102);*/\n",
       "    color: #497BB9;    \n",
       "    margin-bottom: 0.1em;\n",
       "    margin-top: 0.3em;\n",
       "    display: block;\n",
       "}\t\n",
       "\n",
       ".text_cell_render h3 {\n",
       "    font-family: 'Nixie One', serif;\n",
       "    margin-top:16px;\n",
       "    font-size: 22pt;\n",
       "    font-weight: 600;\n",
       "    margin-bottom: 3px;\n",
       "    font-style: regular;\n",
       "    color: rgb(102,102,0);\n",
       "}\n",
       "\n",
       ".text_cell_render h4 {    /*Use this for captions*/\n",
       "    font-family: 'Nixie One', serif;\n",
       "    font-size: 14pt;\n",
       "/*    text-align: center;*/\n",
       "    margin-top: 0em;\n",
       "    margin-bottom: 2em;\n",
       "    font-style: regular;\n",
       "}\n",
       "\n",
       ".text_cell_render h5 {  /*Use this for small titles*/\n",
       "    font-family: 'Nixie One', sans-serif;\n",
       "    font-weight: 400;\n",
       "    font-size: 16pt;\n",
       "    color: rgb(163,0,0);\n",
       "    /*color: #5889C5;*/\n",
       "    /*margin-bottom: .5em;\n",
       "    margin-top: 0.5em;*/\n",
       "    font-style: italic;\n",
       "    margin-bottom: .1em;\n",
       "    margin-top: 0.8em;\n",
       "    display: block;\n",
       "}\n",
       "\n",
       ".warning {\n",
       "    color: rgb( 240, 20, 20)\n",
       "}\n",
       "\n",
       "</style> \n",
       "<script>\n",
       " MathJax.Hub.Config( {\n",
       "    TeX: {\n",
       "        Macros: {\n",
       "            NN: \"{\\\\bf N}\",\n",
       "            RR: \"{\\\\mathbb{R}}\",\n",
       "            mcO: \"{\\\\mathcal{O}}\"\n",
       "        },\n",
       "        equationNumbers: { autoNumber: \"AMS\" },\n",
       "        extensions: [\"AMSmath.js\", \"begingroup.js\"] \n",
       "    },\n",
       "    tex2jax: {\n",
       "        inlineMath: [ ['$', '$'], [\"\\\\(\", \"\\\\)\"]], displayMath: [ ['$$', '$$'], [\"\\\\[\", \"\\\\]\"]]\n",
       "    },\n",
       "    displayAlign: 'center', // Change this to 'center' to center equations.\n",
       "    \"HTML-CSS\": {\n",
       "        styles: {\n",
       "            '.MathJax_Display': {\n",
       "                \"margin\": 4\n",
       "            }\n",
       "        }\n",
       "    }\n",
       "}\n",
       ");\n",
       "</script>\n"
      ],
      "text/plain": [
       "<IPython.core.display.HTML object>"
      ]
     },
     "execution_count": 1,
     "metadata": {},
     "output_type": "execute_result"
    }
   ],
   "source": [
    "from IPython.core.display import HTML\n",
    "def css_styling():\n",
    "    styles = open(\"../styles/tma4215.css\", \"r\").read()\n",
    "    return HTML(styles)\n",
    "\n",
    "# Comment out next line and execute this cell to restore the default notebook style \n",
    "#css_styling()"
   ]
  },
  {
   "cell_type": "code",
   "execution_count": 19,
   "metadata": {},
   "outputs": [],
   "source": [
    "import numpy as np\n",
    "import pandas as pd"
   ]
  },
  {
   "cell_type": "markdown",
   "metadata": {},
   "source": [
    "$$\n",
    "\\DeclareMathOperator{\\Div}{div}\n",
    "\\DeclareMathOperator{\\Grad}{grad}\n",
    "\\DeclareMathOperator{\\Curl}{curl}\n",
    "\\DeclareMathOperator{\\Rot}{rot}\n",
    "\\DeclareMathOperator{\\ord}{ord}\n",
    "\\DeclareMathOperator{\\Kern}{ker}\n",
    "\\DeclareMathOperator{\\Image}{im}\n",
    "\\DeclareMathOperator{\\spann}{span}\n",
    "\\DeclareMathOperator{\\rank}{rank}\n",
    "\\DeclareMathOperator{\\dist}{dist}\n",
    "\\DeclareMathOperator{\\diam}{diam}\n",
    "\\DeclareMathOperator{\\sig}{sig}\n",
    "\\DeclareMathOperator{\\Id}{Id}\n",
    "\\newcommand{\\RR}{\\mathbb{R}}\n",
    "\\newcommand{\\NN}{\\mathbb{N}}\n",
    "\\newcommand{\\VV}{\\mathbb{V}}\n",
    "\\newcommand{\\dGamma}{\\,\\mathrm{d} \\Gamma}\n",
    "\\newcommand{\\dGammah}{\\,\\mathrm{d} \\Gamma_h}\n",
    "\\newcommand{\\dx}{\\,\\mathrm{d}x}\n",
    "\\newcommand{\\dy}{\\,\\mathrm{d}y}\n",
    "\\newcommand{\\ds}{\\,\\mathrm{d}s}\n",
    "\\newcommand{\\dt}{\\,\\mathrm{d}t}\n",
    "\\newcommand{\\dS}{\\,\\mathrm{d}S}\n",
    "\\newcommand{\\dV}{\\,\\mathrm{d}V}\n",
    "\\newcommand{\\dX}{\\,\\mathrm{d}X}\n",
    "\\newcommand{\\dY}{\\,\\mathrm{d}Y}\n",
    "\\newcommand{\\dE}{\\,\\mathrm{d}E}\n",
    "\\newcommand{\\dK}{\\,\\mathrm{d}K}\n",
    "\\newcommand{\\dM}{\\,\\mathrm{d}M}\n",
    "\\newcommand{\\cd}{\\mathrm{cd}}\n",
    "\\newcommand{\\onehalf}{\\frac{1}{2}}\n",
    "\\newcommand{\\bfP}{\\boldsymbol P}\n",
    "\\newcommand{\\bfx}{\\boldsymbol x}\n",
    "\\newcommand{\\bfy}{\\boldsymbol y}\n",
    "\\newcommand{\\bfa}{\\boldsymbol a}\n",
    "\\newcommand{\\bfu}{\\boldsymbol u}\n",
    "\\newcommand{\\bfv}{\\boldsymbol v}\n",
    "\\newcommand{\\bfe}{\\boldsymbol e}\n",
    "\\newcommand{\\bfb}{\\boldsymbol b}\n",
    "\\newcommand{\\bfc}{\\boldsymbol c}\n",
    "\\newcommand{\\bfq}{\\boldsymbol q}\n",
    "\\newcommand{\\bfy}{\\boldsymbol y}\n",
    "\\newcommand{\\bff}{\\boldsymbol f}\n",
    "\\newcommand{\\bfp}{\\boldsymbol p}\n",
    "\\newcommand{\\bft}{\\boldsymbol t}\n",
    "\\newcommand{\\bfj}{\\boldsymbol j}\n",
    "\\newcommand{\\bfB}{\\boldsymbol B}\n",
    "\\newcommand{\\bfV}{\\boldsymbol V}\n",
    "\\newcommand{\\bfE}{\\boldsymbol E}\n",
    "\\newcommand{\\bfB}{\\boldsymbol B}\n",
    "\\newcommand{\\bfzero}{\\boldsymbol 0}\n",
    "$$"
   ]
  },
  {
   "cell_type": "markdown",
   "metadata": {},
   "source": [
    "## Exercise 1"
   ]
  },
  {
   "cell_type": "markdown",
   "metadata": {},
   "source": [
    "For the interpolationspolynom $P(f|x_0, \\ldots, x_n)$, prove the following recursion formlua:\n",
    "\\begin{align}\n",
    "P(f|x_0, \\ldots, x_n)(x) =\n",
    "\\dfrac{(x_0 - x)P(f|x_1, \\ldots, x_n)(x) - (x_n - x)P(f|x_0, \\ldots, x_{n-1})(x)}\n",
    "{x_0 - x_n}\n",
    "\\end{align}\n"
   ]
  },
  {
   "cell_type": "markdown",
   "metadata": {},
   "source": [
    "__Hint__: Show that the expression on the right hand side is a polynom $\\tilde{P}$ of order $n$\n",
    "which satfisfies the interpolation conditions $\\tilde{P}(x_i) = f(x_i)$ for $i=0,\\ldots n$. \n",
    "Why does that prove the recursion formula?"
   ]
  },
  {
   "cell_type": "markdown",
   "metadata": {},
   "source": [
    "<font color='blue'>\n",
    "    \n",
    "   Your comments here: \n",
    "\n",
    "</font><br>\n",
    "Denote the expression on the right hand side of the recursion formula above as $\\tilde{P}(x_i)$. \n",
    "\n",
    "As $P(f|x_1,...,x_n)(x)$ and $P(f|x_0,...,x_{n-1})$ are interpolation polynomials of order $n-1$, $\\tilde{P}(x)$ is of order $n$\n",
    "\n",
    "\n",
    "\\begin{aligned}\n",
    "P(f|x_1,...,x_n)(x_i)&=P(f|x_0,...,x_{n-1})(x_i)\\qquad i=1,...,n-1\\\\\n",
    "\\Rightarrow\\tilde{P}(x_i)&=f(x_i)\n",
    "\\end{aligned}\n",
    "For $i=0,n$ it is easily seen that $\\tilde{P}(x_0)=f(x_0)$ and $\\tilde{P}(x_n)=f(x_n)$. So $\\tilde{P}(x_i)$ is a polynomial of order $n$ which interpolates $f$ at the $n+1$ nodes $x_0,...,x_n$. Theorem 7.1 in $\\textbf{YEYEB}$ ensures the uniqueness of $P(f|x_0,...,x_n)(x)$.\n"
   ]
  },
  {
   "cell_type": "markdown",
   "metadata": {},
   "source": [
    "## Exercise 2 (The Aiken-Neville Algorithm)\n",
    "\n",
    "__a)__ Define the polynom $P_{ik}$ by\n",
    "$$\n",
    "P_{ik}(x) := P(f|x_{i-k}, \\ldots,x_i)(x) \\quad \\text{for } i \\geqslant k. \n",
    "$$\n",
    "Then it follows from (1) that the value of $P_{nn} = P(f|x_0, \\ldots, x_n)$ at some given point $x$\n",
    "can be computed recursively as follows\n",
    "\\begin{alignat}{3}\n",
    "P_{i0}(x) &= f_i \\quad &&\\text{for } i = 0,\\ldots, n,\n",
    "\\\\\n",
    "P_{ik}(x) &= P_{i,k-1} + \\dfrac{x - x_i}{x_i - x_{i-k}}(P_{i,k-1}(x) - P_{i-1,k-1}(x))\n",
    "\\quad && \\text{for } i \\geqslant k.\n",
    "\\end{alignat}\n",
    "\n",
    "**Before you procede**, convince yourself that Equation (2) is just an application of the Equation (1) in Exercise 1 to $P(f|x_{i-k}, \\ldots,x_i)(x)$.\n",
    "\n",
    "This leads to the Aiken-Neville scheme (leaving out the function argument $x$):\n",
    "\n",
    "\\begin{equation}\n",
    "\\begin{matrix}\n",
    "P_{00} & & & & & & \n",
    "\\\\\n",
    "& \\searrow &&&&&\n",
    "\\\\\n",
    "P_{10} & \\rightarrow & P_{11} & & & &\n",
    "\\\\\n",
    "\\vdots & & & \\ddots & & &\n",
    "\\\\\n",
    "P_{n-1,0}& \\rightarrow & \\ldots & \\rightarrow & P_{n-1,n-1} & \\searrow &\n",
    "\\\\\n",
    "P_{n,0}& \\rightarrow & \\ldots & \\rightarrow & P_{n-1,n-1} & \\rightarrow & P_{nn}\n",
    "\\end{matrix}\n",
    "\\end{equation}\n",
    "\n",
    "Based on this recursion, implement an ```aiken_neville``` function \n",
    "which takes in a function ```f```, a list of nodal points ```x_nodes``` \n",
    "and a value ```x``` and returns the value $P(f|x_0, \\ldots, x_n)(x)$."
   ]
  },
  {
   "cell_type": "code",
   "execution_count": 14,
   "metadata": {},
   "outputs": [],
   "source": [
    "def aiken_neville(f, x_nodes, x):\n",
    "    n = len(x_nodes)\n",
    "    PX = np.zeros([n, n], dtype=float)\n",
    "    for i in range(n):\n",
    "        for k in range(i+1):\n",
    "            if k==0:\n",
    "                PX[i, k] = f(x_nodes[i])\n",
    "            else:\n",
    "                PX[i, k] = (PX[i, k-1] +\n",
    "                            ((x - x_nodes[i])/(x_nodes[i] - x_nodes[i-k]))*(PX[i, k-1] - PX[i-1, k-1]))\n",
    "    return PX"
   ]
  },
  {
   "cell_type": "markdown",
   "metadata": {},
   "source": [
    "__b)__ Now use this function to compute an approximation of $\\sin(62^{\\circ})$\n",
    "based on the data points \n",
    "$(50^{\\circ},\\sin(50^{\\circ})),\n",
    "(55^{\\circ},\\sin(55^{\\circ})),\n",
    "(60^{\\circ},\\sin(60^{\\circ})),\n",
    "\\ldots,\n",
    "(60^{\\circ},\\sin(70^{\\circ}))$."
   ]
  },
  {
   "cell_type": "code",
   "execution_count": 27,
   "metadata": {},
   "outputs": [
    {
     "name": "stdout",
     "output_type": "stream",
     "text": [
      "    sin(x_i)                                        \n",
      "50  0.766044  0.000000  0.000000  0.000000  0.000000\n",
      "55  0.819152  0.893503  0.000000  0.000000  0.000000\n",
      "60  0.866025  0.884775  0.883029  0.000000  0.000000\n",
      "65  0.906308  0.882138  0.882929  0.882949  0.000000\n",
      "70  0.939693  0.886277  0.882966  0.882946  0.882948\n"
     ]
    }
   ],
   "source": [
    "f = lambda x: np.sin(np.radians(x))\n",
    "x_nodes = np.linspace(50,70,5)\n",
    "x = 62\n",
    "results = aiken_neville(f, x_nodes, x)\n",
    "result_df = pd.DataFrame(results, columns=['sin(x_i)'] + ['' for i in range(len(x_nodes)-1)],\n",
    "                        index=[str(int(deg)) for deg in x_nodes])\n",
    "print(result_df)"
   ]
  },
  {
   "cell_type": "markdown",
   "metadata": {},
   "source": [
    "The ```aiken_neville``` function approximates $\\sin(62^{\\circ})\\approx 0.882948$, this is very close to the true value"
   ]
  },
  {
   "cell_type": "code",
   "execution_count": 28,
   "metadata": {},
   "outputs": [
    {
     "data": {
      "text/plain": [
       "0.8829475928589269"
      ]
     },
     "execution_count": 28,
     "metadata": {},
     "output_type": "execute_result"
    }
   ],
   "source": [
    "np.sin(np.radians(62))"
   ]
  },
  {
   "cell_type": "code",
   "execution_count": null,
   "metadata": {},
   "outputs": [],
   "source": []
  }
 ],
 "metadata": {
  "kernelspec": {
   "display_name": "Python 3",
   "language": "python",
   "name": "python3"
  },
  "language_info": {
   "codemirror_mode": {
    "name": "ipython",
    "version": 3
   },
   "file_extension": ".py",
   "mimetype": "text/x-python",
   "name": "python",
   "nbconvert_exporter": "python",
   "pygments_lexer": "ipython3",
   "version": "3.7.1"
  }
 },
 "nbformat": 4,
 "nbformat_minor": 2
}
