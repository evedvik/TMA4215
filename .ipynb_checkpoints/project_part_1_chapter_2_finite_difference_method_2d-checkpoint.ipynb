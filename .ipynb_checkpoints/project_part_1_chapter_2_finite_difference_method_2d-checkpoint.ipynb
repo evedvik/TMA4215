{
 "cells": [
  {
   "cell_type": "markdown",
   "metadata": {},
   "source": [
    "# Computer Project for TMA4215\n",
    "\n",
    "$$\n",
    "\\DeclareMathOperator{\\Div}{div}\n",
    "\\DeclareMathOperator{\\Grad}{grad}\n",
    "\\DeclareMathOperator{\\Curl}{curl}\n",
    "\\DeclareMathOperator{\\Rot}{rot}\n",
    "\\DeclareMathOperator{\\ord}{ord}\n",
    "\\DeclareMathOperator{\\Kern}{ker}\n",
    "\\DeclareMathOperator{\\Image}{im}\n",
    "\\DeclareMathOperator{\\spann}{span}\n",
    "\\DeclareMathOperator{\\rank}{rank}\n",
    "\\DeclareMathOperator{\\dist}{dist}\n",
    "\\DeclareMathOperator{\\diam}{diam}\n",
    "\\DeclareMathOperator{\\sig}{sig}\n",
    "\\DeclareMathOperator{\\Id}{Id}\n",
    "\\DeclareMathOperator{\\CQR}{CQR}\n",
    "\\DeclareMathOperator{\\QR}{QR}\n",
    "\\DeclareMathOperator{\\TR}{TR}\n",
    "\\DeclareMathOperator{\\CTR}{CTR}\n",
    "\\DeclareMathOperator{\\SR}{SR}\n",
    "\\DeclareMathOperator{\\CSR}{CSR}\n",
    "\\DeclareMathOperator{\\NCR}{NCR}\n",
    "\\DeclareMathOperator{\\MR}{MR}\n",
    "\\newcommand{\\RR}{\\mathbb{R}}\n",
    "\\newcommand{\\NN}{\\mathbb{N}}\n",
    "\\newcommand{\\VV}{\\mathbb{V}}\n",
    "\\newcommand{\\PP}{\\mathbb{P}}\n",
    "\\newcommand{\\dGamma}{\\,\\mathrm{d} \\Gamma}\n",
    "\\newcommand{\\dGammah}{\\,\\mathrm{d} \\Gamma_h}\n",
    "\\newcommand{\\dx}{\\,\\mathrm{d}x}\n",
    "\\newcommand{\\dy}{\\,\\mathrm{d}y}\n",
    "\\newcommand{\\ds}{\\,\\mathrm{d}s}\n",
    "\\newcommand{\\dt}{\\,\\mathrm{d}t}\n",
    "\\newcommand{\\dS}{\\,\\mathrm{d}S}\n",
    "\\newcommand{\\dV}{\\,\\mathrm{d}V}\n",
    "\\newcommand{\\dX}{\\,\\mathrm{d}X}\n",
    "\\newcommand{\\dY}{\\,\\mathrm{d}Y}\n",
    "\\newcommand{\\dE}{\\,\\mathrm{d}E}\n",
    "\\newcommand{\\dK}{\\,\\mathrm{d}K}\n",
    "\\newcommand{\\dM}{\\,\\mathrm{d}M}\n",
    "\\newcommand{\\cd}{\\mathrm{cd}}\n",
    "\\newcommand{\\onehalf}{\\frac{1}{2}}\n",
    "\\newcommand{\\bfP}{\\boldsymbol P}\n",
    "\\newcommand{\\bfx}{\\boldsymbol x}\n",
    "\\newcommand{\\bfy}{\\boldsymbol y}\n",
    "\\newcommand{\\bfa}{\\boldsymbol a}\n",
    "\\newcommand{\\bfu}{\\boldsymbol u}\n",
    "\\newcommand{\\bfv}{\\boldsymbol v}\n",
    "\\newcommand{\\bfe}{\\boldsymbol e}\n",
    "\\newcommand{\\bfb}{\\boldsymbol b}\n",
    "\\newcommand{\\bfc}{\\boldsymbol c}\n",
    "\\newcommand{\\bfq}{\\boldsymbol q}\n",
    "\\newcommand{\\bfy}{\\boldsymbol y}\n",
    "\\newcommand{\\bff}{\\boldsymbol f}\n",
    "\\newcommand{\\bfp}{\\boldsymbol p}\n",
    "\\newcommand{\\bft}{\\boldsymbol t}\n",
    "\\newcommand{\\bfj}{\\boldsymbol j}\n",
    "\\newcommand{\\bfB}{\\boldsymbol B}\n",
    "\\newcommand{\\bfV}{\\boldsymbol V}\n",
    "\\newcommand{\\bfE}{\\boldsymbol E}\n",
    "\\newcommand{\\bfB}{\\boldsymbol B}\n",
    "\\newcommand{\\bfzero}{\\boldsymbol 0}\n",
    "$$"
   ]
  },
  {
   "cell_type": "code",
   "execution_count": 3,
   "metadata": {},
   "outputs": [
    {
     "data": {
      "text/html": [
       "<link href='http://fonts.googleapis.com/css?family=Alegreya+Sans:100,300,400,500,700,800,900,100italic,300italic,400italic,500italic,700italic,800italic,900italic' rel='stylesheet' type='text/css'> <link href='http://fonts.googleapis.com/css?family=Arvo:400,700,400italic' rel='stylesheet' type='text/css'> <link href=\"https://fonts.googleapis.com/css?family=News+Cycle\" rel=\"stylesheet\"> <link href='http://fonts.googleapis.com/css?family=Nixie+One' rel='stylesheet' type='text/css'> <link href='http://fonts.googleapis.com/css?family=PT+Mono' rel='stylesheet' type='text/css'> <link href='http://fonts.googleapis.com/css?family=Shadows+Into+Light' rel='stylesheet' type='text/css'> <link href=\"https://fonts.googleapis.com/css?family=Source+Code+Pro\" rel=\"stylesheet\"> <style> @font-face {\n",
       "    /*font-family: \"Computer Modern\";*/\n",
       "    /*src: url('http://mirrors.ctan.org/fonts/cm-unicode/fonts/otf/cmunss.otf');*/\n",
       "    font-family: 'News Cycle', sans-serif;\n",
       "}\n",
       "\n",
       "\n",
       "/* main background */\n",
       "\n",
       "\n",
       "/*#notebook_panel { \n",
       "        background: #C9D4E2;\n",
       "    }*/\n",
       "\n",
       "div.cell {\n",
       "    /*max-width:600px;*/\n",
       "    /*margin-left:16% !important;*/\n",
       "    /*margin-right:auto;*/\n",
       "}\n",
       "\n",
       "div.text_cell {\n",
       "    max-width: 120ex;\n",
       "    /* instead of 100%, */\n",
       "}\n",
       "\n",
       "div.text_cell_render {\n",
       "    font-family: 'Alegreya Sans', Computer Modern, \"Helvetica Neue\", Arial, Helvetica, Geneva,   sans-serif;\n",
       "    line-height: 135%;\n",
       "    /*font-size:    45pt;*/\n",
       "    font-size: 130%;\n",
       "    /*width:600px;*/\n",
       "    /*margin-left:auto;*/\n",
       "    /*margin-right:auto;*/\n",
       "}\n",
       "\n",
       ".CodeMirror {\n",
       "    /*font-family: 'Source Code Pro', monospace;*/\n",
       "    /*font-style: italic;*/\n",
       "    /*font-weight: bold;*/\n",
       "    /*font-size: 120%;*/\n",
       "}\n",
       "\n",
       "\n",
       "/*.prompt{\n",
       "        display: None;\n",
       "    }*/\n",
       "\n",
       ".text_cell_render h1 {\n",
       "    font-family: 'Nixie One', serifV;\n",
       "    font-style: regular;\n",
       "    font-weight: 400;\n",
       "    font-size: 45pt;\n",
       "    line-height: 100%;\n",
       "        color: #497BB9;    \n",
       "    /*color: #5889C5;*/\n",
       "    /*color: rgb(0, 51, 102);*/\n",
       "    /*font-weight: 200;*/\n",
       "    /*font-size: 50pt;*/\n",
       "    margin-bottom: 0.5em;\n",
       "    margin-top: 0.5em;\n",
       "    display: block;\n",
       "}\n",
       "\n",
       ".text_cell_render h2 {\n",
       "    font-family: 'Nixie One', serif;\n",
       "    font-weight: 400;\n",
       "    font-size: 30pt;\n",
       "    line-height: 100%;\n",
       "    /*color: rgb(0,51,102);*/\n",
       "    color: #497BB9;    \n",
       "    margin-bottom: 0.1em;\n",
       "    margin-top: 0.3em;\n",
       "    display: block;\n",
       "}\t\n",
       "\n",
       ".text_cell_render h3 {\n",
       "    font-family: 'Nixie One', serif;\n",
       "    margin-top:16px;\n",
       "    font-size: 22pt;\n",
       "    font-weight: 600;\n",
       "    margin-bottom: 3px;\n",
       "    font-style: regular;\n",
       "    color: rgb(102,102,0);\n",
       "}\n",
       "\n",
       ".text_cell_render h4 {    /*Use this for captions*/\n",
       "    font-family: 'Nixie One', serif;\n",
       "    font-size: 14pt;\n",
       "/*    text-align: center;*/\n",
       "    margin-top: 0em;\n",
       "    margin-bottom: 2em;\n",
       "    font-style: regular;\n",
       "}\n",
       "\n",
       ".text_cell_render h5 {  /*Use this for small titles*/\n",
       "    font-family: 'Nixie One', sans-serif;\n",
       "    font-weight: 400;\n",
       "    font-size: 16pt;\n",
       "    color: rgb(163,0,0);\n",
       "    /*color: #5889C5;*/\n",
       "    /*margin-bottom: .5em;\n",
       "    margin-top: 0.5em;*/\n",
       "    font-style: italic;\n",
       "    margin-bottom: .1em;\n",
       "    margin-top: 0.8em;\n",
       "    display: block;\n",
       "}\n",
       "\n",
       ".warning {\n",
       "    color: rgb( 240, 20, 20)\n",
       "}\n",
       "\n",
       "</style> \n",
       "<script>\n",
       " MathJax.Hub.Config( {\n",
       "    TeX: {\n",
       "        Macros: {\n",
       "            NN: \"{\\\\bf N}\",\n",
       "            RR: \"{\\\\mathbb{R}}\",\n",
       "            mcO: \"{\\\\mathcal{O}}\"\n",
       "        },\n",
       "        equationNumbers: { autoNumber: \"AMS\" },\n",
       "        extensions: [\"AMSmath.js\", \"begingroup.js\"] \n",
       "    },\n",
       "    tex2jax: {\n",
       "        inlineMath: [ ['$', '$'], [\"\\\\(\", \"\\\\)\"]], displayMath: [ ['$$', '$$'], [\"\\\\[\", \"\\\\]\"]]\n",
       "    },\n",
       "    displayAlign: 'center', // Change this to 'center' to center equations.\n",
       "    \"HTML-CSS\": {\n",
       "        styles: {\n",
       "            '.MathJax_Display': {\n",
       "                \"margin\": 4\n",
       "            }\n",
       "        }\n",
       "    }\n",
       "}\n",
       ");\n",
       "</script>\n"
      ],
      "text/plain": [
       "<IPython.core.display.HTML object>"
      ]
     },
     "execution_count": 3,
     "metadata": {},
     "output_type": "execute_result"
    }
   ],
   "source": [
    "from IPython.core.display import HTML\n",
    "def css_styling():\n",
    "    styles = open(\"D:/sjurs/Skole/TMA4215 Nummat/styles/tma4215.css\", \"r\").read()\n",
    "    return HTML(styles)\n",
    "\n",
    "# Comment out next line and execute this cell to restore the default notebook style \n",
    "css_styling()"
   ]
  },
  {
   "cell_type": "markdown",
   "metadata": {},
   "source": [
    "## Part 1: The Poisson Equation\n",
    "\n",
    "\n",
    "### Chapter 2: Rising to 2 dimensions"
   ]
  },
  {
   "cell_type": "markdown",
   "metadata": {},
   "source": [
    "We consider 2-dimenionsal equivalent of the two-point boundary value problem, known as the __Poisson problem__:\n",
    "\n",
    "Let $\\Omega = [0,1]\\times [0,1] \\subset \\RR^2$, and given\n",
    "a right-hand side (or source) function $f: \\Omega \\to  \\RR$\n",
    "and a boundary function $g: \\partial \\Omega \\to \\RR$.\n",
    "Here $\\partial \\Omega = \\{0\\} \\times [0,1] \\cup \\{1\\} \\times [0,1]\n",
    "\\cup [0,1]  \\times \\{0\\} \\cup [0,1]  \\times \\{1\\}$\n",
    "denotes the boudary of $\\Omega$. Then the task is to find\n",
    "$u: \\Omega \\to  \\RR$ such that\n",
    "$$\n",
    "\\begin{align}\n",
    "- \\Delta u  &= f \\quad \\text{in } \\Omega,\n",
    "\\tag{1a}\n",
    "\\\\\n",
    " u &= g \\quad \\text{on } \\partial \\Omega.\n",
    "\\tag{1b}\n",
    "\\end{align}\n",
    "$$\n",
    "\n",
    "Recall that the Laplace operater $\\Delta u$ is defined by\n",
    "\\begin{align*}\n",
    "\\Delta u(x,y) = \n",
    "\\partial^2_{x} u(x,y) + \\partial^2_{y} u(x,y)\n",
    "= \n",
    "\\dfrac{\\partial^2}{\\partial x^2} u(x,y) \n",
    "+\\dfrac{\\partial^2}{\\partial y^2} u(x,y) \n",
    "\\end{align*}\n",
    "\n",
    "How do we compute a numerical solution to (1a)-(1b)?"
   ]
  },
  {
   "cell_type": "markdown",
   "metadata": {},
   "source": [
    "### Finite Difference Method for the 2D Poisson problem\n",
    "\n",
    "Instead of trying to compute $u(x)$ exactly,\n",
    "we will now try to compute a numerical approximation\n",
    "$u_{\\Delta}$ of $u(x)$. In 1D, we introduced $n+1$ equally space grid points on $[0,1]$. Since we are in 2D now, we just apply the same procedure in every dimension and then create a 2D grid:\n",
    "\n",
    "* Subdivide the $x$-axis,\n",
    "and introduce $\\{x_i\\}_{i=0}^n$ with $x_i = i h$, $ h = \\tfrac{1}{n}$\n",
    "* Subdivide the $y$-axis,\n",
    "and introduce $\\{y_j\\}_{j=0}^n$ with $y_j = j h$\n",
    "* Defind the $N = (n+1)^2$ grid points $\\{(x_i,y_j)\\}_{i,j=0}^{n}$.\n",
    "\n",
    "To each of the grid points $(x_i,y_j)$ we now assoicate\n",
    "an unknow $U_{i,j}$  for $i,j=0,\\ldots n $.\n",
    "\n",
    "Below you see an illustration for the case $n=3$:"
   ]
  },
  {
   "cell_type": "markdown",
   "metadata": {},
   "source": [
    "<img src=\"TMA4215/figures/fdm-grid-1.png\" style=\"width:400px;height:410px\"/>"
   ]
  },
  {
   "cell_type": "markdown",
   "metadata": {},
   "source": [
    "To derive an equation system for the $U_{i,j}$, we take the same approach\n",
    "as for the two-point value problem realizing that the  $\\partial_x^2 u$ \n",
    "can be approximated by a central difference operator along the $x$-axis\n",
    "\\begin{align*}\n",
    "\\partial_x^+ \\partial_x^- u(x_i, y_j)\n",
    ":=  \\dfrac{u(x_{i+1}, y_j) - 2 u(x_i,y_j) + u(x_{i-1}, y_j)}\n",
    "{h^2}\n",
    "\\approx \\partial_x^2 u(x_i, y_j),\n",
    "\\end{align*}\n",
    "while keeping the $y$-variable fixed.\n",
    "\n",
    "The same goes the other way around, so to approximate $\\partial_y^2 u$ at $(x_i,y_j)$, we use the central difference operator along the $y$-axis\n",
    "\\begin{align*}\n",
    "\\partial_y^+ \\partial_y^- u(x_i, y_j)\n",
    ":=  \\dfrac{u(x_{i}, y_{j+1}) - 2 u(x_i,y_j) + u(x_{i}, y_{j-1})}\n",
    "{h^2}\n",
    "\\approx \\partial_y^2 u(x_i, y_j),\n",
    "\\end{align*}\n",
    "while keeping the $x$-variable fixed.\n",
    "\n",
    "So in total, we obtain that\n",
    "\\begin{align*}\n",
    "f(x_i,y_i) &=\n",
    "- \\Delta u(x_i, y_i) \n",
    "\\\\\n",
    "&\\approx\n",
    "-\\partial_x^+ \\partial_x^- u(x_i, y_j)\n",
    "-\n",
    "\\partial_y^+ \\partial_y^- u(x_i, y_j)\n",
    "\\\\\n",
    "&=  -\\dfrac{u(x_{i+1}, y_{j}) + u(x_{i}, y_{j+1}) - 4 u(x_i,y_j) + u(x_{i-1}, y_{j}) + u(x_{i}, y_{j-1})}\n",
    "{h^2}\n",
    "\\end{align*}\n",
    "\n",
    "Because of the index structure the finite difference operator $(\\partial_x^+ \\partial_x^- +  \\partial_y^+ \\partial_y^- )$ is also called __5-point stencil__."
   ]
  },
  {
   "cell_type": "markdown",
   "metadata": {},
   "source": [
    "#### Task 1\n",
    "Similar as before, use Taylor expansion to show that\n",
    "for \n",
    "$u \\in C^4([0,1]^2)$\n",
    "\n",
    "$$\n",
    "\\max_{(x,y) \\in [0,1]^2} | (\\partial_x^+ \\partial_x^- +  \\partial_y^+ \\partial_y^- )u(x) - \\Delta u(x,y) |\n",
    "=\n",
    "\\mathcal{O}(h^2).\n",
    "$$"
   ]
  },
  {
   "cell_type": "markdown",
   "metadata": {},
   "source": [
    "<font color=\"blue\">\n",
    "Solution:    \n",
    "</font>"
   ]
  },
  {
   "cell_type": "markdown",
   "metadata": {},
   "source": [
    "Using the 5-point stencil, we again get an equation system for the \n",
    "$(N-1)^2$ __internal grid points__ $\\{(x_i, y_j\\}_{i,j=1}^{n-1}$\n",
    "\n",
    "\\begin{align}\n",
    "-(\\partial_x^+ \\partial_x^- + \\partial_y^+\\partial_y^-) U_{ij}\n",
    "&=\n",
    "\\dfrac{4 U_{i,j} -  U_{i+1,j} - U_{i,j+1} - U_{i-1, j} -  U_{i, j-1}}{h^2}\n",
    "\\\\\n",
    "&=  f(x_i, y_j) =: F_{ij} \\quad \\text{for } i,j = 1,\\ldots N-1.\n",
    "\\end{align}\n"
   ]
  },
  {
   "cell_type": "markdown",
   "metadata": {},
   "source": [
    "As before (yes, we are repeating ourselves!) the system needs to closed by supplementing the equations for the boundary conditions.\n",
    "We set the boundary conditions on the bottom and top of the square $[0,1]^2$ by requiring that\n",
    "\\begin{align}\n",
    "U_{i,j} = g(x_i, y_j) \\quad \\text{for }  i=0,\\ldots, n, j \\in \\{0,n\\}.\n",
    "\\end{align}\n",
    "and then treating the remaining boundary points on the left and right of $[0,1]^2$:\n",
    "\\begin{align}\n",
    "U_{i,j} = g(x_i, y_j) \\quad \\text{for }  i \\in \\{0,n\\}, j=1,\\ldots, n-1.\n",
    "\\end{align}\n",
    "How can we get from here to a nice looking linear system? \n",
    "We have used a double index, one for each dimension, so that we could easily \n",
    "reduce the discretization of $\\Delta$ to the techniques we learned in Chapter 1 on 1D two-point boundary problems.\n",
    "\n",
    "To avoid the introduction of multi-dimensional matrices, we need to\n",
    "transform the double index $(i,j)$ into a single index by introducing\n",
    "a consecutive numbering $I = I(i,j)$ of the the unknowns.\n",
    "\n",
    "For example, the  row-wise numbering of the unknown is illustrated \n",
    "here:"
   ]
  },
  {
   "cell_type": "markdown",
   "metadata": {},
   "source": [
    "<img src=\"TMA4215/figures/fdm-grid-2.png\" style=\"width:400px;height:410px\"/>"
   ]
  },
  {
   "cell_type": "markdown",
   "metadata": {},
   "source": [
    "#### Task 2: \n",
    "Any consecutive numbering is nothing but an index mapping of the form $\\NN^2 \\ni (i,j) \\mapsto I(i,j) \\in \\NN$.  Which of the following index mapping corresponds to the row-wise numbering illustrated above? \n",
    "1. $I(i,j) = i n + j \\quad$ for $i,j = 0,\\ldots, n$\n",
    "2. $I(i,j) = i + j n\\quad$ for $i,j = 0,\\ldots, n$\n",
    "3. $I(i,j) = i + j(n+1)$ for $i,j = 0,\\ldots, n$\n",
    "4. $I(i,j) = i(n-1) + j$ for $i,j = 0,\\ldots, n$\n",
    "\n",
    "Write also down the index mapping for column-wise numbering\n",
    "(also known as lexicographical order)"
   ]
  },
  {
   "cell_type": "markdown",
   "metadata": {},
   "source": [
    "<font color=\"blue\">\n",
    "Solution:  \n",
    "</font>"
   ]
  },
  {
   "cell_type": "markdown",
   "metadata": {},
   "source": [
    "#### Task 3\n",
    "Now we implement a first FDM 2D solver. \n",
    "\n",
    "Start with defining a 1-line function ```I(i,j,n)```\n",
    "which for $n$ equally spaced intervals in each direction\n",
    "transforms an double index $(i,j)$ into a single index $I$\n",
    "using a row-wise numbering."
   ]
  },
  {
   "cell_type": "code",
   "execution_count": null,
   "metadata": {},
   "outputs": [],
   "source": [
    "# Define index mapping\n",
    "def I(i,j,n):\n",
    "    ..."
   ]
  },
  {
   "cell_type": "markdown",
   "metadata": {},
   "source": [
    "Next, define a ```def fdm_poisson_2d_matrix_dense(n, I)```\n",
    "which takes in $n$ and the index mapping $I$ and\n",
    "computes the full finite difference matrix, including setting \n",
    "those diagonals elements to $1$ which correspond to an index \n",
    "on the boundary."
   ]
  },
  {
   "cell_type": "code",
   "execution_count": null,
   "metadata": {},
   "outputs": [],
   "source": [
    "import numpy as np\n",
    "\n",
    "def fdm_poisson_2d_matrix_dense(n, I):\n",
    "    # Gridsize\n",
    "    h = 1.0/n\n",
    "    \n",
    "    # Total number of unknowns is N = (n+1)*(n+1)\n",
    "    N = ...\n",
    "\n",
    "    # Define zero matrix A of right size and insert 0\n",
    "    A = ...\n",
    "\n",
    "    # Define FD entries of A\n",
    "    hh = h*h\n",
    "    for i in range(1, n):\n",
    "        for j in range(1, n):\n",
    "            A[...,...] = 4/hh # U_ij\n",
    "            A[...,...] = ...  # U_{i-1,j}\n",
    "            A[...,...] = ...  # U_{i+1,j}\n",
    "            A[...,...] = ...  # U_{i,j-1}\n",
    "            A[...,...] = ...  # U_{i,j+1}\n",
    "            \n",
    "    # Incorporate boundary conditions\n",
    "    # Add boundary values related to unknowns from the first and last grid ROW\n",
    "    for j in [0,n]:\n",
    "        for i in range(0,n+1):\n",
    "            ...\n",
    "\n",
    "    # Add boundary values related to unknowns from the first and last grid COLUMN\n",
    "    ...\n",
    "    \n",
    "    return A"
   ]
  },
  {
   "cell_type": "markdown",
   "metadata": {},
   "source": [
    "Now try to numerically solve the Poisson problem. \n",
    "We will learn a few new functions from the ```numpy``` module\n",
    "along the way."
   ]
  },
  {
   "cell_type": "code",
   "execution_count": null,
   "metadata": {},
   "outputs": [],
   "source": [
    "# Number of subdivisions in each dimension\n",
    "n = 10\n",
    "\n",
    "# To define the grid we could use \"linspace\" as \n",
    "# in the first part to define subdivisions for \n",
    "# the $x$ and $y$ axes. But to make plotting easy\n",
    "# and to vectorize the evaluation of the right-hand \n",
    "# side $f$, we do something more fancy. We define \n",
    "# x and y coordinates for the grid using a \n",
    "# \"sparse grid\" representation using the function 'ogrid'.\n",
    "# (Read the documentation for 'ogrid'!). \n",
    "# Unfortunately, ogrid does not include the interval \n",
    "# endpoints by \n",
    "# default, but according to the numpy documentation, \n",
    "# you can achieve this by multiplying your sampling number by\n",
    "# the pure imaginary number $i = \\sqrt{-1}$  which is written as \"1j\" in Python code.\n",
    "# So simply speaking \"(N+1)*1j\" reads \"include the end points\"\n",
    "# while (N+1) reads \"exclude the end points\".\n",
    "\n",
    "x,y = np.ogrid[0:1:(n+1)*1j, 0:1:(n+1)*1j]\n",
    "# Print x and y to see how they look like!\n",
    "#print(x)\n",
    "#print(y)"
   ]
  },
  {
   "cell_type": "markdown",
   "metadata": {},
   "source": [
    "To build a complete example and test your code, use again the method of __manufactured solution__."
   ]
  },
  {
   "cell_type": "code",
   "execution_count": null,
   "metadata": {},
   "outputs": [],
   "source": [
    "# Example of exact solution\n",
    "def u_ex(x, y):\n",
    "    return np.sin(1*np.pi*x)*np.sin(2*np.pi*y)\n",
    "\n",
    "# Boundary data g is given by u_ex\n",
    "g = u_ex\n",
    "\n",
    "# Right hand side\n",
    "def f(x, y):\n",
    "    return ...\n",
    "\n",
    "# Evaluate u on the grid. The output will be a 2 dimensional array \n",
    "# where U_ex_grid[i,j] = u_ex(x_i, y_j)\n",
    "U_ex_grid = u_ex(x,y)\n",
    "\n",
    "# Print f_grid  to see how it looks like!\n",
    "#print(U_ex_grid)"
   ]
  },
  {
   "cell_type": "markdown",
   "metadata": {},
   "source": [
    "Here is a little helper functions for plotting grid functions like ```U_grid```."
   ]
  },
  {
   "cell_type": "code",
   "execution_count": null,
   "metadata": {},
   "outputs": [],
   "source": [
    "import matplotlib.pyplot as plt\n",
    "from matplotlib import cm\n",
    "from mpl_toolkits.mplot3d import Axes3D\n",
    "\n",
    "def plot2D(X, Y, Z, title=\"\"):\n",
    "    # Define a new figure with given size an\n",
    "    fig = plt.figure(figsize=(8, 6), dpi=100)\n",
    "    ax = fig.gca(projection='3d')\n",
    "    surf = ax.plot_surface(X, Y, Z,             \n",
    "                           rstride=1, cstride=1, # Sampling rates for the x and y input data\n",
    "                           cmap=cm.viridis)      # Use the new fancy colormap viridis\n",
    "    \n",
    "    # Set initial view angle\n",
    "    ax.view_init(30, 225)\n",
    "    \n",
    "    # Set labels and show figure\n",
    "    ax.set_xlabel('$x$')\n",
    "    ax.set_ylabel('$y$')\n",
    "    ax.set_title(title)\n",
    "    plt.show()"
   ]
  },
  {
   "cell_type": "markdown",
   "metadata": {},
   "source": [
    "Now try it out to plot $u_{ex}$."
   ]
  },
  {
   "cell_type": "code",
   "execution_count": null,
   "metadata": {},
   "outputs": [],
   "source": [
    "%matplotlib notebook \n",
    "\n",
    "plot2D(x, y, U_ex_grid, title=\"$u(x,y)$\")"
   ]
  },
  {
   "cell_type": "markdown",
   "metadata": {},
   "source": [
    "You can do the same for right-hand side $f$ and the \n",
    "boundary function $g$."
   ]
  },
  {
   "cell_type": "code",
   "execution_count": null,
   "metadata": {},
   "outputs": [],
   "source": [
    "# Evaluate f on the grid. The output will be a 2 dimensional array \n",
    "# where f_grid[i,j] = f(x_i, y_j)\n",
    "F_grid = f(x,y)\n",
    "\n",
    "# Same game for boundary data g\n",
    "G_grid = g(x,y)"
   ]
  },
  {
   "cell_type": "markdown",
   "metadata": {},
   "source": [
    "Before we finally going to solve the Poisson problem,\n",
    "we need translate the ```F_grid``` into a proper rhs vector $F$\n",
    "and need to incorporate the boundary function value into $F$.\n",
    "\n",
    "Start with flatten out $F$ and $G$:"
   ]
  },
  {
   "cell_type": "code",
   "execution_count": null,
   "metadata": {},
   "outputs": [],
   "source": [
    "# To apply bcs we have to flatten out F which is done by the ravel function\n",
    "F = F_grid.ravel()\n",
    "\n",
    "# To apply bcs we have to flatten out G which is done by the ravel function\n",
    "G = G_grid.ravel()"
   ]
  },
  {
   "cell_type": "markdown",
   "metadata": {},
   "source": [
    "Also, we define a function incorporating the values of ```G``` into ```F```."
   ]
  },
  {
   "cell_type": "code",
   "execution_count": null,
   "metadata": {},
   "outputs": [],
   "source": [
    "def apply_bcs(F, G, n, I):\n",
    "    # Add boundary values related to unknowns from the first and last grid ROW\n",
    "    bc_indices = [ I(i,j,n)  for j in [0, n] for i in range(0, n+1) ]\n",
    "    F[bc_indices] = G[bc_indices]  \n",
    "\n",
    "    # Add boundary values related to unknowns from the first and last grid COLUMN\n",
    "    bc_indices = ...\n",
    "    ..."
   ]
  },
  {
   "cell_type": "markdown",
   "metadata": {},
   "source": [
    "Finally, solve the Poisson problem."
   ]
  },
  {
   "cell_type": "code",
   "execution_count": null,
   "metadata": {
    "scrolled": true
   },
   "outputs": [],
   "source": [
    "# Linear algebra solvers from scipy\n",
    "import scipy.linalg as la\n",
    "\n",
    "# Compute the FDM matrix\n",
    "...\n",
    "\n",
    "# Apply bcs\n",
    "...\n",
    "\n",
    "# Solve \n",
    "...\n",
    "\n",
    "# Make U into a grid function for plotting\n",
    "U_grid = U.reshape((n+1,n+1))\n",
    "\n",
    "# and plot f\n",
    "plot2D(x, y, U_grid, title=\"$u(x,y)$\")"
   ]
  },
  {
   "cell_type": "markdown",
   "metadata": {},
   "source": [
    "#### Task 4\n",
    "Use the method of manufactured solution together with the given analytical reference solution $u_{ex}$ to compute the experimental order of convergence (EOC)\n",
    "for $N = 16, 32, 64$ using $\\max_{i} |U-u|$ as error measure. Summarize your results in a table. \n",
    "What convergence rate do you get? If you don't get an EOC very close to $2$, find the bugs in your code :)"
   ]
  },
  {
   "cell_type": "markdown",
   "metadata": {},
   "source": [
    "####  Task 5 \n",
    "Test how large you can chose the resolution $n$ until either the problem takes too long (say 5 minutes) to compute or uses too much memory. \n",
    "\n",
    "Can you explain why the problem\n",
    "scales so badly with respect to number of unknowns $N = (n+1)^2$? "
   ]
  },
  {
   "cell_type": "markdown",
   "metadata": {},
   "source": [
    "#### Task 6 \n",
    "\n",
    "Based on your implementation above, we now implement an improved finite difference solver  using __sparse matrices__. Sparse matrices only store the\n",
    "non-zero elements of a matrix. Note that the number of non-zero elements in\n",
    "the finite difference matrix scales like $N$ and not like $N^2$ like __full matrices__.\n",
    "\n",
    "Knowing the structure and entries of the matrix a priori, the most efficient \n",
    "realization would be based on (block) tridiagonal sparse matrices. \n",
    "But to allow for minimal adjustments of your previous solver implementation, we simply switch to a flexible sparse matrix format \n",
    "\n",
    "To this end you have change only 3 lines of code and incorporate the following code snippets into your previous code. For comparision you may want to define\n",
    "a separate function ```fdm_poisson_2d_matrix_sparse(n, I)```."
   ]
  },
  {
   "cell_type": "markdown",
   "metadata": {},
   "source": [
    "### Code Snippets"
   ]
  },
  {
   "cell_type": "markdown",
   "metadata": {},
   "source": [
    "Get access to sparse matrices and sparse solvers."
   ]
  },
  {
   "cell_type": "code",
   "execution_count": null,
   "metadata": {
    "jupyter": {
     "outputs_hidden": true
    }
   },
   "outputs": [],
   "source": [
    "import scipy.sparse as sp\n",
    "from scipy.sparse.linalg import spsolve"
   ]
  },
  {
   "cell_type": "markdown",
   "metadata": {},
   "source": [
    "Use a sparse matrix format for $A$, see \n",
    "https://docs.scipy.org/doc/scipy-1.3.0/reference/sparse.html\n",
    "for the many formats which are available. Here we use \"dictionary of keys\" based representation which is an empty matrix to begin with and which can easily filled with non-zero values at the appropriate places."
   ]
  },
  {
   "cell_type": "code",
   "execution_count": null,
   "metadata": {
    "jupyter": {
     "outputs_hidden": true
    }
   },
   "outputs": [],
   "source": [
    "A = sp.dok_matrix((N, N))"
   ]
  },
  {
   "cell_type": "markdown",
   "metadata": {},
   "source": [
    "After creating the matrix we have to convert it to a different format, the so-called\n",
    "\"Compressed Sparse Row matrix\" representation, which is much more efficient when solving the system $A U = F$ with a sparse solver.\n",
    "see https://docs.scipy.org/doc/scipy-1.3.0/reference/generated/scipy.sparse.linalg.spsolve.html"
   ]
  },
  {
   "cell_type": "code",
   "execution_count": null,
   "metadata": {
    "jupyter": {
     "outputs_hidden": true
    }
   },
   "outputs": [],
   "source": [
    "# Now convert A to format which is more efficient for solving\n",
    "A_csr = A.tocsr() \n",
    "U = spsolve(A_csr, F)"
   ]
  },
  {
   "cell_type": "markdown",
   "metadata": {},
   "source": [
    "#### Task 7 \n",
    "\n",
    "Measure and compare the overall solution time for your two implementations 'fdm_poisson_2d_dense' and 'fdm_poisson_2d_sparse' by using the cell magic command %%timeit."
   ]
  }
 ],
 "metadata": {
  "kernelspec": {
   "display_name": "Python 3",
   "language": "python",
   "name": "python3"
  },
  "language_info": {
   "codemirror_mode": {
    "name": "ipython",
    "version": 3
   },
   "file_extension": ".py",
   "mimetype": "text/x-python",
   "name": "python",
   "nbconvert_exporter": "python",
   "pygments_lexer": "ipython3",
   "version": "3.7.1"
  }
 },
 "nbformat": 4,
 "nbformat_minor": 4
}
