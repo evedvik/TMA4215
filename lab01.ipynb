{
 "cells": [
  {
   "cell_type": "markdown",
   "metadata": {},
   "source": [
    "# Homework 1: Linear Systems Part I\n",
    "### Emil Vedvik, Sjur Svorkmo Bergmann, David Schönit"
   ]
  },
  {
   "cell_type": "markdown",
   "metadata": {},
   "source": [
    "## General Instructions\n",
    " \n",
    "* To pass this assignment requires to complete the present Jupyter notebook by\n",
    "    + providing correct answers to all the theoretical exercises, and by\n",
    "    + providing complete and runnable computer code producing the correct results to all the computational problems.\n",
    "\n",
    "* For the theoretical exercises, please include intermediate steps to\n",
    "  explain how you arrive at your solution.\n",
    "* Don't overengineer your code, keep it as simple and readable as possible   and provide short code comments to help other people understanding your     code.\n",
    "* Please provide also a short summary and discussion of your results \n",
    "  including the requested output (e.g., tables, graphs etc.).\n",
    "\n",
    "* Up to 3 students can jointly submit the solutions (4 students if at\n",
    "  least one is an exchange student) **Only 1 student from each group** \n",
    "  is supposed to submit them.  \n",
    "\n",
    "##### Deadline for submission of your solutions is **5th of September**.\n",
    "\n",
    "\n",
    "###  Happy coding!"
   ]
  },
  {
   "cell_type": "markdown",
   "metadata": {},
   "source": [
    "### Useful code snippets\n",
    "\n",
    "We provide a few of code snippets to get you\n",
    "started in Python. Three dots $\\ldots$ indicate places where you have\n",
    "to fill in code. We start with importing the necessary scientific libraries\n",
    "and define a name alias for them."
   ]
  },
  {
   "cell_type": "code",
   "execution_count": 2,
   "metadata": {
    "jupyter": {
     "outputs_hidden": true
    }
   },
   "outputs": [],
   "source": [
    "# Arrary and stuff \n",
    "import numpy as np\n",
    "# Linear algebra solvers from scipy\n",
    "import scipy.linalg as la\n",
    "# Basic plotting routines from the matplotlib library \n",
    "import matplotlib.pyplot as plt\n",
    "\n",
    "import seaborn as sns\n",
    "import pandas as pd\n",
    "import time\n",
    "import matplotlib.pyplot as plt\n",
    "\n",
    "sns.set()"
   ]
  },
  {
   "cell_type": "markdown",
   "metadata": {},
   "source": [
    "## Problem 1\n",
    "Provide a complete proof of Theorem 2 from Lecture 2,\n",
    "following the outline provided there. "
   ]
  },
  {
   "cell_type": "markdown",
   "metadata": {},
   "source": [
    "#### Theorem 2 Lecture 2\n",
    " Let A ∈ $R^{n,n}$ with $n > 2$ and assume that every leading\n",
    "principal submatrix of order k with $1 \\leq k \\leq n − 1$ is invertible. Then A\n",
    "admits a LU factorization, where L is unit lower triangular of order n, and\n",
    "U is upper triangular of order n."
   ]
  },
  {
   "cell_type": "markdown",
   "metadata": {},
   "source": [
    "#### Proof\n",
    "From lecture:\n",
    "1. (Base case) Prove the theorem for $n = 2$. We could have started with\n",
    "$n = 1$ as one as well, but the case $n = 2$ already illustrates the main idea, when\n",
    "going from $n$ to $n + 1$. Assume that A fullfills the assumption of the theorem\n",
    "and write it as\n",
    "$$\n",
    "A^{2\\times2} = \n",
    "\\begin{bmatrix}\n",
    "a & b \\\\\n",
    "c & d\n",
    "\\end{bmatrix}\n",
    "= LU = \n",
    "\\begin{bmatrix}\n",
    "1 & 0 \\\\\n",
    "m & 1\n",
    "\\end{bmatrix}\n",
    "\\begin{bmatrix}\n",
    "u & v \\\\\n",
    "0 & \\eta\n",
    "\\end{bmatrix}\n",
    "$$"
   ]
  },
  {
   "cell_type": "markdown",
   "metadata": {},
   "source": [
    "#### Solving $A=LU$:\n",
    "1. $a = u$\n",
    "2. $b = v$\n",
    "3. $c = m\\cdot u \\Rightarrow m = c \\div a$\n",
    "4. $d = m\\cdot v + \\eta \\Rightarrow \\eta = d - \\frac{bc}{a}$\n",
    "5. $\\text{Det}(A) = \\text{Det}(LU) = \\text{Det}(L)\\cdot\\text{Det}(U)=\\text{Det}(U)$\n",
    "$$\\Leftrightarrow ad-bc = u\\cdot\\eta = a(d - \\frac{bc}{a}) = ad - bc$$"
   ]
  },
  {
   "cell_type": "markdown",
   "metadata": {},
   "source": [
    "#### From lecture:\n",
    "\n",
    "2. (Inductive step) Assume the theorem is proven for all matrices of order\n",
    "$k, 2 \\leq k \\leq n$, and suppose that $A$ ∈ $\\mathbb{R}^{\n",
    "n+1\\times n+1}$, satisfying the assumptions of the\n",
    "theorem.\n",
    "a) Inspired by the case $n = 2$, rewrite A as a block matrix\n",
    "$$\n",
    "A = \n",
    "\\begin{bmatrix}\n",
    "A^n & \\vec{b} \\\\\n",
    "\\vec{c}^T & d\n",
    "\\end{bmatrix},\n",
    "$$\n",
    "where $A^{(n)} \\in \\mathbb{R}^{n\\times n}$, $\\vec{b}$ and $\\vec{c}$ are column vectors and $d$ is a scalar.\n",
    "\n",
    "b) Assuming that A satisfy the assumptions of the theorem and that the\n",
    "theorem is already proved for n. Show that A(n) admits a LU factorization and\n",
    "make the ansatz\n",
    "$$ L = \n",
    "\\begin{bmatrix}\n",
    "L^{(n)} & \\vec{0} \\\\\n",
    "\\vec{m}^T & 1\n",
    "\\end{bmatrix},\\qquad\n",
    "U = \n",
    "\\begin{bmatrix}\n",
    "U^{(n)} & \\vec{v} \\\\\n",
    "\\vec{0}^T & \\eta\n",
    "\\end{bmatrix}\n",
    "$$\n",
    "Now proceed similar as in step and compute the (block) matrix product of\n",
    "LU. then the resuliting blocks entries need to equal the corresponding ones\n",
    "8\n",
    "in block representation of A. Again carefully consider the resulting 4 “block\n",
    "equations”. Why can you solve it? At some point you might also need to recall\n",
    "the Binet-Cauchy theorem stating that det(XY ) = det(X) det(Y ) for square\n",
    "matrices X and Y ."
   ]
  },
  {
   "cell_type": "markdown",
   "metadata": {},
   "source": [
    "#### Solving $A=LU; A,L,U \\in R^{n\\times n}; n > 2.$\n",
    "As in the case $n=2$, we get 5 equations:\n",
    "1. $A^{(n)} = L^{(n)}U^{(n)} + 0;$\n",
    "2. $L^{(n)}\\vec{v} (+ \\eta\\cdot\\vec{0})=L^{(n)}\\vec{v}=\\vec{b},$ with directions preserved;\n",
    "3. $\\vec{m}^TU^{(n)} = \\vec{c}^T,$ directions preserved;\n",
    "4. $\\vec{m}^T\\vec{v} + \\eta = d,$ all elements of the same dimension;\n",
    "5. $\\text{Det}(A^{(n)})=\\text{Det}(L^{(n)})\\text{Det}(U^{(n)})=\\text{Det}(U^{(n)})$, as $L^{(n)}$ is a unit lower triangular matrix.\n"
   ]
  },
  {
   "cell_type": "markdown",
   "metadata": {},
   "source": [
    "As $A^{(n)}$ by the initial condition is nonsingular, implying that $U^{(n)}$ also has a determinant different from zero, Eq.2 & 3 has unique solutions. Thus $\\vec{v}$, $\\vec{m}$ and $\\eta$ (by Eq.4) has existing and unique values, which proves the existence of $L$ and $U$. $\\Box$"
   ]
  },
  {
   "cell_type": "markdown",
   "metadata": {},
   "source": [
    "## Problem 2"
   ]
  },
  {
   "cell_type": "markdown",
   "metadata": {},
   "source": [
    "Given matrix $A \\in \\mathbb{R}^{n,n}$ and $\\boldsymbol{b} \\in \\mathbb{R}^n$,\n",
    "the goal of this problem set is to compute the solution $\\boldsymbol{x}$\n",
    "to the linear system $A \\boldsymbol{x} = \\boldsymbol{b}$ numerically\n",
    "by implementing the algorithms $A = LU$ factorization (whenever possible), and the backward and forward substitution steps in ```Python```.\n",
    "\n",
    "As a preliminary step, please make sure that you have import ```numpy```  as ```np``` by executing the cell right under \"Useful code snippets\"."
   ]
  },
  {
   "cell_type": "markdown",
   "metadata": {},
   "source": [
    "**a)** Implement a ```Python``` function ```forward_sub```:"
   ]
  },
  {
   "cell_type": "code",
   "execution_count": 3,
   "metadata": {},
   "outputs": [],
   "source": [
    "def forward_sub(L, b):\n",
    "    \"\"\"Given a lower triangular matrix L and right-side vector b,\n",
    "    compute the solution vector y solving Ly = b.\n",
    "    \n",
    "    Parameters\n",
    "    ----------\n",
    "    L : 2D numpy array\n",
    "        Lower triangular matrix with ones along the diagonal\n",
    "    b : 1D numpy array\n",
    "        \n",
    "    Returns\n",
    "    -------\n",
    "    y : 1D numpy array\n",
    "        Solution of Ly = b\n",
    "    \"\"\"\n",
    "    \n",
    "    y = np.zeros(len(b))\n",
    "    y[0] = float(b[0])/L[0][0]\n",
    "    for i in range(1, len(L), 1):\n",
    "        y[i] = (b[i]-np.dot(L[i][:i], y[:i]))/L[i][i]\n",
    "            \n",
    "    return y\n"
   ]
  },
  {
   "cell_type": "markdown",
   "metadata": {},
   "source": [
    "**b)** Next, implement a ```Python``` function ```backward_sub```:"
   ]
  },
  {
   "cell_type": "code",
   "execution_count": 4,
   "metadata": {},
   "outputs": [],
   "source": [
    "def backward_sub(U, y):\n",
    "    \"\"\"Given a lower triangular matrix U and right-side vector y,\n",
    "    compute the solution vector x solving Ux = y.\n",
    "    \n",
    "    Parameters\n",
    "    ----------\n",
    "    U : 2D numpy array\n",
    "        Upper triangular matrix\n",
    "    y : 1D numpy array\n",
    "        \n",
    "    Returns\n",
    "    -------\n",
    "    x : 1D numpy array\n",
    "        Solution of Ux = y\n",
    "    \"\"\"\n",
    "    x = np.zeros(len(y))\n",
    "    x[-1] = float(y[-1])/U[-1][-1]\n",
    "    for i in range(len(U)-2, -1, -1):\n",
    "        x[i] = (y[i]-np.dot(U[i][i+1:], x[i+1:]))/U[i][i]\n",
    "    return x\n"
   ]
  },
  {
   "cell_type": "markdown",
   "metadata": {},
   "source": [
    "**c)** Now, implement a Python function which computes for a given matrix $A \\boldsymbol{R}^{n,n}$ the $LU$ factorization of $A = LU$ ((if possible).\n",
    "You can either base your implemenentation on the Banachiewicz or Crout method (explain in Lecture 3) or any method\n",
    "you might dig up from the literature.\n",
    "If you want, you can take some inspiration from the reference **YEB**, Chapter 3.3, see Program 4, 5, 6.\n",
    "\n",
    "If the factorization fails without permutating $A$, you should at least be so kind\n",
    "and raise an ```Exception```, see [Python 3 tutorial, 8. Errors and Exceptions](\n",
    "https://docs.python.org/3/tutorial/errors.html#errors-and-exceptions).\n",
    "More specifically, you can simply raise an [NotImplementedError](https://docs.python.org/3/library/exceptions.html#NotImplementedError) exception.\n",
    "\n",
    "Of course, you can also implement the full $PA = LU$ decomposition if you don't want to throw Exceptions around :)."
   ]
  },
  {
   "cell_type": "code",
   "execution_count": 5,
   "metadata": {},
   "outputs": [],
   "source": [
    "def lu_factor(A):\n",
    "    \"\"\"LU-factorization with pivoting, PA = LU decomposition\n",
    "    \n",
    "    Parameters\n",
    "    ----------\n",
    "    A : 2D numpy array\n",
    "    \n",
    "    Returns\n",
    "    -------\n",
    "    L : 2D numpy array\n",
    "        Lower triangular matrix with ones along the diagonal\n",
    "    U : 2D numpy array\n",
    "        Upper triangular matrix\n",
    "    P : 2D numpy array\n",
    "        Permutation matrix from the pivoting\n",
    "    \"\"\"\n",
    "    n = len(A)\n",
    "    P = np.identity(n)\n",
    "    A = A.astype(dtype=float)\n",
    "    for i in range(n-1):\n",
    "        col_max = np.amax(A[i:,i])\n",
    "        max_idx = np.where(A[i:,i]==col_max)[0][0] + i \n",
    "        P[[i, max_idx]] = P[[max_idx, i]]\n",
    "        A[[i, max_idx]] = A[[max_idx, i]]\n",
    "        A[i+1:, i] = A[i+1:, i]/A[i,i]\n",
    "        \n",
    "        for k in range(i+1, n):\n",
    "            A[k, i+1:] -= A[i, i+1:]*A[k, i]\n",
    "\n",
    "    U = np.triu(A)\n",
    "    L = np.tril(A, -1) + np.identity(n)\n",
    "\n",
    "    return L, U, P"
   ]
  },
  {
   "cell_type": "markdown",
   "metadata": {},
   "source": [
    "**d)** Next, combine the Python functions you just implemented in a)-b) to provide\n",
    "solver for the linear system $A \\boldsymbol{x} = \\boldsymbol{b}$ based on\n",
    "a given $A = LU$ factorization. "
   ]
  },
  {
   "cell_type": "code",
   "execution_count": 6,
   "metadata": {},
   "outputs": [],
   "source": [
    "def lu_solve(L, U, b):\n",
    "    \"\"\" Solve Ax = b by the results from decomposing A to LU\n",
    "    \n",
    "    Parameters\n",
    "    ----------\n",
    "    L : 2D numpy array\n",
    "        Lower triangular matrix with ones along the diagonal\n",
    "    U : 2D numpy array\n",
    "        Upper triangular matrix\n",
    "    b : 1D numpy array\n",
    "    \n",
    "    Returns\n",
    "    -------\n",
    "    x : 1D numpy array\n",
    "        Solution of Ax = LUx = b\n",
    "    \"\"\"\n",
    "    # Step 1: Solve Ly = b using forward substitution\n",
    "    y = forward_sub(L, b)\n",
    "    # Step 2: Solve Ux = y using backward substitution\n",
    "    x = backward_sub(U, y)\n",
    "    \n",
    "    return x"
   ]
  },
  {
   "cell_type": "markdown",
   "metadata": {},
   "source": [
    "**e)** Finally, write a ```linear_solve``` function  by simply combining your ```lu_factor``` and ```lu_solve```. "
   ]
  },
  {
   "cell_type": "code",
   "execution_count": 7,
   "metadata": {},
   "outputs": [],
   "source": [
    "def linear_solve(A, b):\n",
    "    \"\"\" Solve a matrix equation Ax = b by decomposing A s.t PA = LU\n",
    "       And use forward and backward substitution to get x. Combining all the \n",
    "       functions above to solve the system.\n",
    "       \n",
    "    Parameters\n",
    "    ----------\n",
    "    A : 2D numpy array\n",
    "    b : 1D numpy array\n",
    "    \n",
    "    Returns\n",
    "    -------\n",
    "    x : 1D numpy array\n",
    "        Solution of Ax = b\n",
    "    \"\"\"\n",
    "    L, U, P = lu_factor(A)\n",
    "    x = lu_solve(L, U, P @ b) #P @ b er ekvivalent med np.matmul(P,b)\n",
    "    return x\n"
   ]
  },
  {
   "cell_type": "markdown",
   "metadata": {},
   "source": [
    "**f)** Use you brand new `linear_solve` function to compute the solution to a non-trivial linear system. Here non-trivial means that $n > 4$ :) and a non-zero right-hand side $\\boldsymbol{b}$.\n",
    "\n",
    "*Hint*: To check whether your code computes the \"exact\" result, you can use the \n",
    "method of **manufactured solution**. In the case of linear systems $A \\boldsymbol{x} = \\boldsymbol{b}$ this means that for **given/chosen** matrix $A$ and solution vector $\\boldsymbol{x}$, you simply compute the resulting right-hand side vector \n",
    "$\\boldsymbol{b} = A \\boldsymbol{x}$ to construct an example where you know the solution.\n",
    "When you now solve $A\\boldsymbol{x} = \\boldsymbol{b}$ starting from $A$, $\\boldsymbol{b}$, your implementation should return the correct $\\boldsymbol{x}$."
   ]
  },
  {
   "cell_type": "markdown",
   "metadata": {},
   "source": [
    "We construct an example of $A\\mathbf{x} = \\mathbf{b}$, where we know the exact solution, $\\mathbf{x}$\n",
    "\n",
    "$$\n",
    "\\begin{bmatrix}\n",
    "3 & 7 & 1 & 2 & 0 \\\\\n",
    "9 & 1 & 3 & 5 & -1 \\\\\n",
    "2 & 2 & 1 & 4 & 4 \\\\\n",
    "4 & 3 & 0 & 2 & 8 \\\\\n",
    "1 & 2 & 3 & 4 & 5\n",
    "\\end{bmatrix}\n",
    "\\begin{bmatrix}\n",
    "1 \\\\\n",
    "2 \\\\\n",
    "3 \\\\\n",
    "4 \\\\\n",
    "5 \n",
    "\\end{bmatrix}\n",
    "=\n",
    "\\begin{bmatrix}\n",
    "28 \\\\\n",
    "35 \\\\ \n",
    "40 \\\\\n",
    "58 \\\\\n",
    "55 \n",
    "\\end{bmatrix}\n",
    "$$"
   ]
  },
  {
   "cell_type": "code",
   "execution_count": 8,
   "metadata": {},
   "outputs": [
    {
     "name": "stdout",
     "output_type": "stream",
     "text": [
      "[1. 2. 3. 4. 5.]\n"
     ]
    }
   ],
   "source": [
    "test_matrix = np.array([[3,7,1,2,0],[9,1,3,5,-1],[2,2,1,4,3],[4,3,0,2,8],[1,2,3,4,5]])\n",
    "test_b = np.array([28,35,40,58,55])\n",
    "print(linear_solve(test_matrix, test_b))"
   ]
  },
  {
   "cell_type": "markdown",
   "metadata": {},
   "source": [
    "We see the computed solution matches the correct solution from our constructed example above"
   ]
  },
  {
   "cell_type": "markdown",
   "metadata": {},
   "source": [
    "## Problem 3\n",
    "\n",
    "The objective of this problem set is two-fold. First, we will have an actual look \n",
    "at the complexity of the linear solver you implemented in the previous problem.\n",
    "Second, we want to illustrate that the finite precision of real numbers\n",
    "can matter very much in actual computations.\n",
    "\n",
    "We start by introducing the **Hilbert Matrix** $H_n$ of order $n$ by\n",
    "$$ \n",
    "(H_n)_{ij} = \\dfrac{1}{i+j-1} \\quad \\text{for } 1 \\leqslant i,j \\leqslant n.\n",
    "$$\n",
    "\n",
    "\n",
    "The Hilbert matrix is readily available in the ```scipy.linalg``` module, so you simply\n",
    "type, e.g\n",
    "\n",
    "```python\n",
    "n = 3\n",
    "A = la.hilbert(n)\n",
    "```\n",
    "Recall that we imported the ```linalg``` module and renamed it to ```la``` via the\n",
    "```python \n",
    "import scipy.linalg as la\n",
    "``` \n",
    "line at the beginning of this notebook."
   ]
  },
  {
   "cell_type": "markdown",
   "metadata": {},
   "source": [
    "**a)** \n",
    "Define the trivial righ-hand side $\\boldsymbol{b} = \\boldsymbol{0}$\n",
    "and measure the executation time for the various step in your linear_solver.\n",
    "To do so you can use ```%timeit``` and ```%%timeit``` magic functions in IPython,\n",
    "see [corresponding documentation](https://ipython.readthedocs.io/en/stable/interactive/magics.html#magic-timeit).\n",
    "\n",
    "In a nutshell, ```%%timeit``` measures the executation time of an entire cell, while ```%timeit```\n",
    "only measures only the executation time of a single line, e.g. as in\n",
    "\n",
    "```python\n",
    "%timeit my_function()\n",
    "```\n",
    "\n",
    "Note that the latter might not play well with functions returning arguments.\n",
    "To this end, you can simply (re)write a linear solver in  3 lines (1 line per cell)\n",
    "starting from calling your  ```lu_factor``` function and\n",
    "copy-pasting the lines from Step 1 to Step 2 in the ```linear_solve()``` function.\n",
    "Then use the ```%%timeit``` to measure the executation time of each cell.\n",
    "\n",
    "To get accurate timeing results, ```timeit``` automatically runs the same code multiple\n",
    "times in  a loop, and repeats that measurement a number of times.\n",
    "The actual number of loops and repeats is selected automatically and will be printed out at the end. They can also be manually adjusted by using\n",
    "\n",
    "```\n",
    "%%timeit -n<number_of_loops> -r<number_of_repeats>\n",
    "```\n",
    "\n",
    "\n",
    "Now for $n = 500, 1000, 2000, 4000$, measure the executation time for each step in the linear solve\n",
    "(factorizing, forward and backward substitution) and plot\n",
    "the execution time $t$ against the number of unknowns $n$ in a $\\log$-$\\log$ plot,\n",
    "that is, $\\log(t)$ against $\\log(n)$.\n",
    "(Matplotlib has specific functions for log-log plotting)"
   ]
  },
  {
   "cell_type": "code",
   "execution_count": 48,
   "metadata": {},
   "outputs": [],
   "source": [
    "n_list = [500, 1000, 2000, 4000]\n",
    "t_lu = []\n",
    "t_forw = []\n",
    "t_back = []\n",
    "# Change the variable \"compute\" to True if you want to run the loop, if not the results from one previous execution of the \n",
    "# loop are given\n",
    "compute  = False\n",
    "if compute:\n",
    "    # Approximately 9 minutes 30 seconds to compute\n",
    "    for n in n_list:\n",
    "        A = la.hilbert(n)\n",
    "        b = np.zeros(n)\n",
    "        L, U, P = lu_factor(A)\n",
    "        y = forward_sub(L, b)\n",
    "        x = backward_sub(U, y)\n",
    "\n",
    "        lu_time = %timeit -o lu_factor(A)\n",
    "        forw_time = %timeit -o forward_sub(L, b)\n",
    "        back_time = %timeit -o backward_sub(U, y)\n",
    "\n",
    "        t_lu.append(lu_time.best)\n",
    "        t_forw.append(forw_time.best)\n",
    "        t_back.append(back_time.best)\n",
    "else:\n",
    "    t_lu = [0.4904124999998203, 2.208104100000128, 10.637251399999968, 62.509032299999944]\n",
    "    t_forw = [0.0008598236000002544, 0.0017455519999975877, 0.004091275999999197, 0.010655311999998958]\n",
    "    t_back = [0.0008711514999999963, 0.0018577637999997022, 0.004340316000002531, 0.01107958999999937]"
   ]
  },
  {
   "cell_type": "code",
   "execution_count": 54,
   "metadata": {},
   "outputs": [
    {
     "name": "stdout",
     "output_type": "stream",
     "text": [
      "[0.4904124999998203, 2.208104100000128, 10.637251399999968, 62.509032299999944]\n",
      "[0.0008598236000002544, 0.0017455519999975877, 0.004091275999999197, 0.010655311999998958]\n",
      "[0.0008711514999999963, 0.0018577637999997022, 0.004340316000002531, 0.01107958999999937]\n"
     ]
    }
   ],
   "source": [
    "\n",
    "print(t_lu)\n",
    "print(t_forw)\n",
    "print(t_back)\n",
    "#print (7*(sum(t_lu)+100*(sum(t_forw)+sum(t_back))),'s')\n"
   ]
  },
  {
   "cell_type": "code",
   "execution_count": 52,
   "metadata": {
    "scrolled": false
   },
   "outputs": [
    {
     "data": {
      "image/png": "[encoded data removed]",
      "text/plain": [
       "<Figure size 504x504 with 1 Axes>"
      ]
     },
     "metadata": {
      "needs_background": "light"
     },
     "output_type": "display_data"
    }
   ],
   "source": [
    "n_list = [500, 1000, 2000, 4000]\n",
    "f, ax = plt.subplots(figsize=(7, 7))\n",
    "\n",
    "\n",
    "plt.loglog(n_list, t_lu, label='LU factorization')\n",
    "plt.loglog(n_list, t_forw, label='Forward substitution')\n",
    "plt.loglog(n_list, t_back, label='Backward substitution')\n",
    "\n",
    "ax.set_xticks(n_list,minor=True)\n",
    "ax.xaxis.grid(True,which='minor',ls='--')\n",
    "ax.yaxis.grid(True,which='major',ls='--')\n",
    "plt.xlabel('n')\n",
    "plt.ylabel('seconds')\n",
    "\n",
    "\n",
    "plt.legend(loc='best')\n",
    "plt.show()"
   ]
  },
  {
   "cell_type": "markdown",
   "metadata": {},
   "source": [
    "**b)** Next, define a non-trivial vector $\\boldsymbol{b}$ by\n",
    "$$\n",
    "b_i = \\sum_{j=1}^n (j/(i+j-1)) \n",
    "$$\n",
    "so that the **exact solution** to the lineary system $H_n \\boldsymbol{x} = \\boldsymbol{b}$ is\n",
    "the vector $\\boldsymbol{x}_{\\mathrm{ex}}$  with elements $x_{\\mathrm{ex},i} = i$.\n",
    "Now solve the system using your ```linear_solve``` function for $n = 2, 4, 8, 16$, print the computed solution vector $\\boldsymbol{x}_{\\mathrm{comp}}$ and compare it with $\\boldsymbol{x}_{\\mathrm{ex}}$. In particular compute \n",
    "\n",
    "$$\\|\\boldsymbol{x}_{\\mathrm{ex}}-\\boldsymbol{x}_{\\mathrm{comp}}\\|_2.$$\n",
    "\n",
    "What do you observe? Can you explain your observations?\n",
    "\n",
    "*Hint*: It can be shown that the condition number $\\kappa_2(H_n)$ scales like\n",
    "$$\n",
    "\\kappa_2(H_n) \\sim \\dfrac{\\left(\\sqrt{2}+1\\right)^{4n+4}}{2^{15/4}\\sqrt{\\pi n}}\n",
    "\\text{as } n \\to  \\infty.\n",
    "$$\n",
    "\n",
    "Tabulate the approximate values of $\\kappa_2(H_n)$ for $n = 2, 4, 8, 16$.\n",
    "\n",
    "This exercise was heavily inspired by Section 2.8 in **BLUB**."
   ]
  },
  {
   "cell_type": "code",
   "execution_count": 122,
   "metadata": {},
   "outputs": [],
   "source": [
    "def create_b(size):\n",
    "    b = np.zeros(size)\n",
    "    for i in range(size):\n",
    "        for j in range(1, size+1, 1):\n",
    "            b[i] += float(j)/(i+1+j-1)\n",
    "    return b"
   ]
  },
  {
   "cell_type": "code",
   "execution_count": 123,
   "metadata": {},
   "outputs": [],
   "source": [
    "pd.set_option('display.notebook_repr_html', True)\n",
    "\n",
    "def _repr_latex_(self):\n",
    "    return  \"\\centering{%s}\" % self.to_latex()\n",
    "\n",
    "pd.DataFrame._repr_latex_ = _repr_latex_  # monkey patch pandas DataFrame"
   ]
  },
  {
   "cell_type": "code",
   "execution_count": 124,
   "metadata": {},
   "outputs": [
    {
     "data": {
      "text/html": [
       "<div>\n",
       "<style scoped>\n",
       "    .dataframe tbody tr th:only-of-type {\n",
       "        vertical-align: middle;\n",
       "    }\n",
       "\n",
       "    .dataframe tbody tr th {\n",
       "        vertical-align: top;\n",
       "    }\n",
       "\n",
       "    .dataframe thead th {\n",
       "        text-align: right;\n",
       "    }\n",
       "</style>\n",
       "<table border=\"1\" class=\"dataframe\">\n",
       "  <thead>\n",
       "    <tr style=\"text-align: right;\">\n",
       "      <th></th>\n",
       "      <th>n</th>\n",
       "      <th>$\\kappa_2(H_n)$</th>\n",
       "      <th>$\\left\\|\\mathbf{x}_{ex}-\\mathbf{x}_{comp}\\right\\|_2$</th>\n",
       "      <th>$\\left\\|\\mathbf{x}_{ex}\\right\\|_2$</th>\n",
       "    </tr>\n",
       "  </thead>\n",
       "  <tbody>\n",
       "    <tr>\n",
       "      <th>0</th>\n",
       "      <td>2</td>\n",
       "      <td>1.954917e+03</td>\n",
       "      <td>1.489520e-15</td>\n",
       "      <td>2.236068</td>\n",
       "    </tr>\n",
       "    <tr>\n",
       "      <th>1</th>\n",
       "      <td>4</td>\n",
       "      <td>1.595213e+06</td>\n",
       "      <td>2.134342e-12</td>\n",
       "      <td>5.477226</td>\n",
       "    </tr>\n",
       "    <tr>\n",
       "      <th>2</th>\n",
       "      <td>8</td>\n",
       "      <td>1.502155e+12</td>\n",
       "      <td>5.415409e-06</td>\n",
       "      <td>14.282857</td>\n",
       "    </tr>\n",
       "    <tr>\n",
       "      <th>3</th>\n",
       "      <td>16</td>\n",
       "      <td>1.883743e+24</td>\n",
       "      <td>1.575093e+02</td>\n",
       "      <td>38.678159</td>\n",
       "    </tr>\n",
       "  </tbody>\n",
       "</table>\n",
       "</div>"
      ],
      "text/latex": [
       "\\centering{\\begin{tabular}{lrrrr}\n",
       "\\toprule\n",
       "{} &   n &  \\$\\textbackslash kappa\\_2(H\\_n)\\$ &  \\$\\textbackslash left\\textbackslash |\\textbackslash mathbf\\{x\\}\\_\\{ex\\}-\\textbackslash mathbf\\{x\\}\\_\\{comp\\}\\textbackslash right\\textbackslash |\\_2\\$ &  \\$\\textbackslash left\\textbackslash |\\textbackslash mathbf\\{x\\}\\_\\{ex\\}\\textbackslash right\\textbackslash |\\_2\\$ \\\\\n",
       "\\midrule\n",
       "0 &   2 &     1.954917e+03 &                                       1.489520e-15 &                            2.236068 \\\\\n",
       "1 &   4 &     1.595213e+06 &                                       2.134342e-12 &                            5.477226 \\\\\n",
       "2 &   8 &     1.502155e+12 &                                       5.415409e-06 &                           14.282857 \\\\\n",
       "3 &  16 &     1.883743e+24 &                                       1.575093e+02 &                           38.678159 \\\\\n",
       "\\bottomrule\n",
       "\\end{tabular}\n",
       "}"
      ],
      "text/plain": [
       "    n  $\\kappa_2(H_n)$  $\\left\\|\\mathbf{x}_{ex}-\\mathbf{x}_{comp}\\right\\|_2$  \\\n",
       "0   2     1.954917e+03                                       1.489520e-15      \n",
       "1   4     1.595213e+06                                       2.134342e-12      \n",
       "2   8     1.502155e+12                                       5.415409e-06      \n",
       "3  16     1.883743e+24                                       1.575093e+02      \n",
       "\n",
       "   $\\left\\|\\mathbf{x}_{ex}\\right\\|_2$  \n",
       "0                            2.236068  \n",
       "1                            5.477226  \n",
       "2                           14.282857  \n",
       "3                           38.678159  "
      ]
     },
     "execution_count": 124,
     "metadata": {},
     "output_type": "execute_result"
    }
   ],
   "source": [
    "sizes = [2, 4, 8, 16]\n",
    "dif_norm = []\n",
    "cond_numb = []\n",
    "x_ex_2norm = []\n",
    "\n",
    "for n in sizes:\n",
    "    H = la.hilbert(n)\n",
    "    b = create_b(n)\n",
    "    x_comp = linear_solve(H, b)\n",
    "    x_ex = np.array([i+1 for i in range(n)]) \n",
    "    x_ex_2norm.append(np.linalg.norm(x_ex))\n",
    "    dif_norm.append(np.linalg.norm(x_ex-x_comp))\n",
    "    cond_numb.append((2**0.5+1)**(4*n+4)/(2**(15/4)*(np.pi*n)**0.5))\n",
    "\n",
    "\n",
    "df = pd.DataFrame(list(zip(sizes, cond_numb, dif_norm, x_ex_2norm)), columns=[r'n', r'$\\kappa_2(H_n)$', \n",
    "                                                                  r'$\\left\\|\\mathbf{x}_{ex}-\\mathbf{x}_{comp}\\right\\|_2$',\n",
    "                                                                  r'$\\left\\|\\mathbf{x}_{ex}\\right\\|_2$'])\n",
    "df"
   ]
  },
  {
   "cell_type": "markdown",
   "metadata": {},
   "source": [
    "We see that for $n = 16$, $\\left\\| .\\right\\|_2$ has a larger error than exact solution. Consequently, the computed solution becomes practically useless as $n$ increases. As shown in the plot beneath, the growth rate of the norm is similar to that of the conditional number, indicating that $\\kappa_2$ and $\\left\\|\\mathbf{x}_{ex}-\\mathbf{x}_{comp}\\right\\|_2$ might be proportional, albeit only in the worst case (here for $n \\in [2,8]$). This is also concurrent with Theorem 2.11 from **BLUB**."
   ]
  },
  {
   "cell_type": "code",
   "execution_count": 125,
   "metadata": {},
   "outputs": [
    {
     "data": {
      "image/png": "[encoded data removed]",
      "text/plain": [
       "<Figure size 504x504 with 1 Axes>"
      ]
     },
     "metadata": {},
     "output_type": "display_data"
    }
   ],
   "source": [
    "f, ax = plt.subplots(figsize=(7, 7))\n",
    "plt.plot(sizes,cond_numb, label=r'$\\kappa_2(H_n)$')\n",
    "plt.plot(sizes, dif_norm, label=r'$\\left\\||\\mathbf{x}_{ex}-\\mathbf{x}_{comp}\\right\\||_2$')\n",
    "plt.yscale('log')\n",
    "plt.xlabel('n')\n",
    "plt.legend(loc='best')\n",
    "plt.show()"
   ]
  }
 ],
 "metadata": {
  "anaconda-cloud": {},
  "kernelspec": {
   "display_name": "Python 3",
   "language": "python",
   "name": "python3"
  },
  "language_info": {
   "codemirror_mode": {
    "name": "ipython",
    "version": 3
   },
   "file_extension": ".py",
   "mimetype": "text/x-python",
   "name": "python",
   "nbconvert_exporter": "python",
   "pygments_lexer": "ipython3",
   "version": "3.7.1"
  }
 },
 "nbformat": 4,
 "nbformat_minor": 4
}
