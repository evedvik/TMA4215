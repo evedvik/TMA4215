{
 "cells": [
  {
   "cell_type": "markdown",
   "metadata": {},
   "source": [
    "# Lab 2:  Problem 3"
   ]
  },
  {
   "cell_type": "code",
   "execution_count": 1,
   "metadata": {},
   "outputs": [
    {
     "ename": "FileNotFoundError",
     "evalue": "[Errno 2] No such file or directory: '../styles/tma4215.css'",
     "output_type": "error",
     "traceback": [
      "\u001b[1;31m---------------------------------------------------------------------------\u001b[0m",
      "\u001b[1;31mFileNotFoundError\u001b[0m                         Traceback (most recent call last)",
      "\u001b[1;32m<ipython-input-1-65ade77be0e5>\u001b[0m in \u001b[0;36m<module>\u001b[1;34m\u001b[0m\n\u001b[0;32m      5\u001b[0m \u001b[1;33m\u001b[0m\u001b[0m\n\u001b[0;32m      6\u001b[0m \u001b[1;31m# Comment out next line and execute this cell to restore the default notebook style\u001b[0m\u001b[1;33m\u001b[0m\u001b[1;33m\u001b[0m\u001b[1;33m\u001b[0m\u001b[0m\n\u001b[1;32m----> 7\u001b[1;33m \u001b[0mcss_styling\u001b[0m\u001b[1;33m(\u001b[0m\u001b[1;33m)\u001b[0m\u001b[1;33m\u001b[0m\u001b[1;33m\u001b[0m\u001b[0m\n\u001b[0m",
      "\u001b[1;32m<ipython-input-1-65ade77be0e5>\u001b[0m in \u001b[0;36mcss_styling\u001b[1;34m()\u001b[0m\n\u001b[0;32m      1\u001b[0m \u001b[1;32mfrom\u001b[0m \u001b[0mIPython\u001b[0m\u001b[1;33m.\u001b[0m\u001b[0mcore\u001b[0m\u001b[1;33m.\u001b[0m\u001b[0mdisplay\u001b[0m \u001b[1;32mimport\u001b[0m \u001b[0mHTML\u001b[0m\u001b[1;33m\u001b[0m\u001b[1;33m\u001b[0m\u001b[0m\n\u001b[0;32m      2\u001b[0m \u001b[1;32mdef\u001b[0m \u001b[0mcss_styling\u001b[0m\u001b[1;33m(\u001b[0m\u001b[1;33m)\u001b[0m\u001b[1;33m:\u001b[0m\u001b[1;33m\u001b[0m\u001b[1;33m\u001b[0m\u001b[0m\n\u001b[1;32m----> 3\u001b[1;33m     \u001b[0mstyles\u001b[0m \u001b[1;33m=\u001b[0m \u001b[0mopen\u001b[0m\u001b[1;33m(\u001b[0m\u001b[1;34m\"../styles/tma4215.css\"\u001b[0m\u001b[1;33m,\u001b[0m \u001b[1;34m\"r\"\u001b[0m\u001b[1;33m)\u001b[0m\u001b[1;33m.\u001b[0m\u001b[0mread\u001b[0m\u001b[1;33m(\u001b[0m\u001b[1;33m)\u001b[0m\u001b[1;33m\u001b[0m\u001b[1;33m\u001b[0m\u001b[0m\n\u001b[0m\u001b[0;32m      4\u001b[0m     \u001b[1;32mreturn\u001b[0m \u001b[0mHTML\u001b[0m\u001b[1;33m(\u001b[0m\u001b[0mstyles\u001b[0m\u001b[1;33m)\u001b[0m\u001b[1;33m\u001b[0m\u001b[1;33m\u001b[0m\u001b[0m\n\u001b[0;32m      5\u001b[0m \u001b[1;33m\u001b[0m\u001b[0m\n",
      "\u001b[1;31mFileNotFoundError\u001b[0m: [Errno 2] No such file or directory: '../styles/tma4215.css'"
     ]
    }
   ],
   "source": [
    "from IPython.core.display import HTML\n",
    "def css_styling():\n",
    "    styles = open(\"../styles/tma4215.css\", \"r\").read()\n",
    "    return HTML(styles)\n",
    "\n",
    "# Comment out next line and execute this cell to restore the default notebook style \n",
    "css_styling()"
   ]
  },
  {
   "cell_type": "markdown",
   "metadata": {},
   "source": [
    "We will now use Newton's method to find the roots to a *complex* function, namely the function\n",
    "    $$f_C(z) = z^3 - 1.$$\n",
    "### a)\n",
    "Write the complex function $f_C: \\mathbb{C} \\to \\mathbb{C}$ as a real vector-valued function $\\mathbf{f}: \\mathbb{R}^2 \\to \\mathbb{R}^2$ and write down the Jacobian.  \n",
    "(*Hint: use rectangular coordinates $z = x_1+\\mathrm{i}x_2$)*"
   ]
  },
  {
   "cell_type": "markdown",
   "metadata": {},
   "source": [
    "<font color='blue'>\n",
    "   \n",
    "   Solution: \n",
    "   \n",
    "   f: $\\mathbb{R}^2 \\to \\mathbb{R}^2, \\begin{pmatrix} x \\\\ y \\end{pmatrix} \\mapsto \\begin{pmatrix} x^3-3xy^2-1 \\\\ 3x^2y-y^3 \\end{pmatrix} $ \n",
    "   \n",
    "   Jacobian Matrix: \n",
    "   $\\begin{pmatrix} 3x^2-3y^2 & -6xy \\\\ 6xy & 3x^2-3y^2 \\end{pmatrix} $\n",
    "\n",
    "</font>"
   ]
  },
  {
   "cell_type": "markdown",
   "metadata": {},
   "source": [
    "### b)\n",
    "Write a function $\\texttt{Newton}$ which performs Newton iteration until $\\|\\mathbf{f}(\\mathbf{x}^k)\\|_p$ is smaller than some given tolerance $tol$. You can choose what $p$-norm $\\|\\cdot\\|_p$ you use. The function should take as input parameters  \n",
    " - Initial guess $\\mathbf{x}^{(0)}$\n",
    " - tolerance $tol$\n",
    " - Maximum number of iterations $itermax$.  \n",
    "\n",
    "The function should return the final iterate $\\mathbf{x}^{(k)}$, and some indication of whether the iteration converged. "
   ]
  },
  {
   "cell_type": "code",
   "execution_count": 1,
   "metadata": {},
   "outputs": [],
   "source": [
    "# As alway we start by importing the important libraries.\n",
    "import numpy as np\n",
    "import scipy.linalg as la\n",
    "import matplotlib.pyplot as plt\n",
    "from numpy.linalg import inv\n",
    "import cmath as cm\n",
    "\n",
    "def f(x):\n",
    "    y = np.zeros(2)\n",
    "    y[0]=(x[0])** 3-(3*(x[0])*(x[1]) ** 2)-1\n",
    "    y[1]=3*(x[0])** 2 *(x[1])-(x[1]) ** 3\n",
    "    return(y)\n",
    "\n",
    "def Df(x):\n",
    "    y = [[0,0],[0,0]]\n",
    "    y[0][0] = 3*(x[0])**2-3*(x[1])**2\n",
    "    y[0][1] = -6*x[0]*x[1]\n",
    "    y[1][0] = 6*x[0]*x[1]\n",
    "    y[1][1] = 3*(x[0])**2-3*(x[1])**2\n",
    "    return y\n",
    "\n",
    "\n",
    "def norm(x):\n",
    "    y = (x[0]**2+x[1]**2)**(1/2)\n",
    "    return y\n",
    "\n",
    "# a = np.array([1,3])\n",
    "# print(norm(a))\n",
    "\n",
    "def Newton(x0, tol, itermax):\n",
    "    xn = x0\n",
    "    xk = np.zeros(2)\n",
    "    for n in range(0,itermax):\n",
    "        fxn = f(xn)\n",
    "        converged = False\n",
    "        if (la.norm(fxn,2) < tol):\n",
    "            xk = xn\n",
    "            converged = True\n",
    "        Dfxn = Df(xn)\n",
    "        if (Dfxn == 0):\n",
    "            xk = 0\n",
    "            converged = False\n",
    "        xn = xn - inv(Dfxn).dot(fxn)   \n",
    "    return xk, converged\n",
    "\n",
    "# print(Newton([1,1],0.001,))\n",
    "# print(Newton([0.5,0.5],0.000001,3)[1])"
   ]
  },
  {
   "cell_type": "markdown",
   "metadata": {},
   "source": [
    "### c)\n",
    "The function $\\mathbf{f}$ has exactly three roots. (Which?) Hence, if the iteration converges it might converge to any of the three roots. You will now study the dependence on initial guess to which root the iteration converges. Pick $N$ equidistant values of $x^{(0)}_1$ in the interval $[-1,1]$ and $N$ equidistant values of $x^{(0)}_2$ in the interval $[-1,1]$. For each point $\\mathbf{x}^{(0)} = (x^{(0)}_1, x^{(0)}_2)^T$, perform the newton iteration you have defined above. Give the point a color depending on whether the iteration converged in time. If the iteration converged, the point should get a different color depending on which point it converged to. Plot the result."
   ]
  },
  {
   "cell_type": "markdown",
   "metadata": {},
   "source": [
    "The solutions for the rot of the function are:\n",
    "\n",
    "-1., .500000000000000-.866025403784439*I, .500000000000000+.866025403784439*I"
   ]
  },
  {
   "cell_type": "code",
   "execution_count": 2,
   "metadata": {
    "scrolled": false
   },
   "outputs": [
    {
     "name": "stdout",
     "output_type": "stream",
     "text": [
      "[[-2.09439510e+00 -2.09439510e+00 -2.09439510e+00 -4.93038066e-31]\n",
      " [-2.09439510e+00 -2.09439510e+00  2.09439510e+00  0.00000000e+00]\n",
      " [ 2.09439510e+00  2.09439510e+00 -2.09439510e+00  0.00000000e+00]\n",
      " [ 2.09439510e+00  2.09439510e+00  2.09439510e+00  4.93038066e-31]]\n"
     ]
    },
    {
     "data": {
      "text/plain": [
       "<matplotlib.image.AxesImage at 0x29189d8f860>"
      ]
     },
     "execution_count": 2,
     "metadata": {},
     "output_type": "execute_result"
    },
    {
     "data": {
      "image/png": "[encoded data removed]",
      "text/plain": [
       "<Figure size 432x288 with 1 Axes>"
      ]
     },
     "metadata": {
      "needs_background": "light"
     },
     "output_type": "display_data"
    }
   ],
   "source": [
    "def picture(N):\n",
    "    n = 2/(N-1)\n",
    "    res = np.zeros((N,N))\n",
    "    for j in range(0,N):\n",
    "        for i in range(0,N):\n",
    "            if (Newton([-1+n*i + 0.0000001,-1+n*j + 0.0000001],0.1,10)[1] == True):\n",
    "                real = Newton([-1+n*i + 0.0000001,-1+n*j + 0.0000001],0.1,10)[0][0]\n",
    "                imag = Newton([-1+n*i + 0.0000001,-1+n*j + 0.0000001],0.1,10)[0][1]\n",
    "                angle = np.angle(real + imag*1j)\n",
    "                res[j][i]= angle\n",
    "                # (((real**2)+(imag**2))**(1/2))*(np.exp(1*j*angle))\n",
    "            else:\n",
    "                res[j][i] = None\n",
    "            \n",
    "    return res\n",
    "\n",
    "print(picture(4))\n",
    "plt.imshow(picture(100))"
   ]
  },
  {
   "cell_type": "markdown",
   "metadata": {},
   "source": [
    "*Hint 1: You will encounter an error if you try with the initial guess $\\mathbf{x}^{(0)} = \\mathbf{0}$. It might be good to offset all initial guesses by some small perturbation $\\mathbf{\\delta}$.*     "
   ]
  },
  {
   "cell_type": "markdown",
   "metadata": {},
   "source": [
    "*Hint 2: A good way to measure which root the iteration converged to is looking at the argument if the point as a complex number, that is $$\\arg(x^{(k)}_1 + \\mathrm{i}x^{(k)}_2).$$ Store the result in a $N\\times N$ array. If the iteration did not converge, the point can be given the value* **None**. *The result can then be plotted using the matplotlib.pyplot function $\\texttt{imshow}$.*"
   ]
  },
  {
   "cell_type": "markdown",
   "metadata": {},
   "source": [
    "### d)\n",
    "Discuss the following: Does it matter what $p$-norm you use in your Newton algorithm? What happens if you change norm? Does the result change qualitively? Remember that the $p$-norm on $\\mathbb{R}^n$  is defined as\n",
    "$$\n",
    "\\|\\mathbf{x}\\|_p := \\left(\\sum_{k=1}^n|x_k|^p\\right)^{1/p}\n",
    "$$\n",
    "for $1<p<\\infty$."
   ]
  },
  {
   "cell_type": "markdown",
   "metadata": {},
   "source": [
    "<font color='blue'>\n",
    "    \n",
    "   Solution:\n",
    "As expected, if p increases, the number of converged points increases since a higher norm reduces the result to a certain extent. since the effect is limited, the result doesn't change qualitatively. Also, it is more difficult to compute a higher order root which slows down the algorithm.\n",
    "\n",
    "\n",
    "\n",
    "   \n",
    "</font>"
   ]
  },
  {
   "cell_type": "markdown",
   "metadata": {},
   "source": [
    "### e) (Not mandatory)\n",
    "Modify your Newton function so that it returns the number of iterations used. Then, plot the number of iterations used for each initial guess $\\mathbf{x}^{(0)}.$ What do you observe?"
   ]
  },
  {
   "cell_type": "code",
   "execution_count": 1,
   "metadata": {},
   "outputs": [],
   "source": [
    "#Write code here"
   ]
  },
  {
   "cell_type": "markdown",
   "metadata": {},
   "source": [
    "### Remark\n",
    "If you colored the plot according to the hint, the white parts are called the *Julia set* of the rational function $$Q(z) = z - \\frac{f_C(z)}{f_C'(z)}.$$ The colored parts are called *Fatou components.* If you would like to more about the plot above and others like it, there is a link to the wikipedia page of [Julia sets](https://en.wikipedia.org/wiki/Julia_set)."
   ]
  }
 ],
 "metadata": {
  "kernelspec": {
   "display_name": "Python 3",
   "language": "python",
   "name": "python3"
  },
  "language_info": {
   "codemirror_mode": {
    "name": "ipython",
    "version": 3
   },
   "file_extension": ".py",
   "mimetype": "text/x-python",
   "name": "python",
   "nbconvert_exporter": "python",
   "pygments_lexer": "ipython3",
   "version": "3.7.3"
  }
 },
 "nbformat": 4,
 "nbformat_minor": 2
}
